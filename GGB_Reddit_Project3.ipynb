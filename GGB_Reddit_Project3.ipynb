{
 "cells": [
  {
   "cell_type": "markdown",
   "metadata": {},
   "source": [
    "# Project 3 - Classifying Reddit posts\n",
    "\n",
    "---\n",
    "\n",
    "## Problem Statement\n",
    "Given students' changing attitudes on unethical behaviors, and given corporations' increasingly-rigorous job applicant screening processes, are models based on natural language processing sophisticated enough to distinguish the linguistic nuances between ethical, unethical, and illegal behaviors posted online?  Could these models be the basis for more sophiticated job screeing tools in the future, and therefore put already ethically at-risk students at even more more of a disadvantage for employment. What are the implications and actions for educators?\n",
    "\n",
    "---\n",
    "\n",
    "## Executive summary\n",
    "A recent study by professors at California State University, San Marcos and San Francisco State University, found that students' who were more open to cheating at school also were more open to unethical behavior later on in their jobs and careers. In addition, the study found that 'group-oriented' students had a more relaxed attitude toward cheating than more 'individualistic' students. (1)\n",
    "\n",
    "A report by Career Builder.com found that up to 70% of businesses use social media as a screening tool for job applicants and new hires.(2)  Top reasons for job denial include: \n",
    "- Provocative/inappropriate content, photos, videos = 40%\n",
    "- Alcohol and drug use = 36%\n",
    "- Descrimination againse race,gender, religion = 31%\n",
    "- Illegal and criminal behavior = 30%\n",
    "\n",
    "Is machine learning sophisticated enough to distinguish linguistic nuances between ethical, unethical, and illegal behaviors posted online and how does this affect students and educators?\n",
    "\n",
    "A high-level study was conducted on Reddit posts spanning the 'Life Pro Tip' , the 'Unethical Life Pro Tip', and the 'Illegal Life Pro Tip' subreddit groups using the following modelling techniques to determine the predictive capabilities of machine learning. \n",
    "- CountVectorizer / TfidfVectorizer\n",
    "- Logistic Regression\n",
    "- Naïve Bayes: Binomial/ Multinomial\n",
    "- Support Vector\n",
    "- Decision Tree\n",
    "\n",
    "---\n",
    "\n",
    "## Notebook Contents\n",
    "1. Gathering data\n",
    "- Cleaning data\n",
    "- Modelling data\n",
    ">- Model 1: Logistic Regression, Naive Bayes\n",
    ">- Model 2: Logistic Regression, Naive Bayes, Support Vector Classification\n",
    ">- Model 3: Logistic Regression, Naive Bayes, Decision Tree\n",
    "\n",
    "---\n",
    "\n",
    "## Results\n",
    "\n",
    "Three sets of data were run:\n",
    "- Data 1 = Predicting Unethical vs Ethical posts\n",
    "- Data 2 = Predicting Illegal vs Unethical posts\n",
    "- Data 3 = Predicting Illegal vs Ethical posts\n",
    "\n",
    "Overall results concerning all 3 data sets:\n",
    "- Titles more accurate than selftext\n",
    "- Tvec more accurate than Cvec\n",
    "- Stopwords not an influence - even when creating custom stopword list\n",
    "- LogReg most accurate model!\n",
    "- Multinomial Naïve Bayes slightly less accuracy than LogReg but consistently higher Specificity\n",
    "- Support Vector similar accuracy to LogReg, but with higher overfit and HUGE Time/CPU cost.\n",
    "- Decision Tree (even with up to 90 levels) ran surprisingly quickly, but had slightly less accuracy than LogReg and had the highest overfit.\n",
    "\n",
    "Results for best fit models:\n",
    "\n",
    "|Dataset|Reddit|Baseline|Best model|Results|\n",
    "|---|---|---|---|---|\n",
    "|Data1|Unethical vs Ethical|54%|Tvec and LogReg| Accuracy 78%|\n",
    "|Data2|Illegal vs Unethical| 52%| Tvec and LogReg|Accuracy 76%|\n",
    "|Data3|Illegal vs Ethical|52%|Tvec and LogReg|Accuracy 90%|\n",
    "\n",
    "---\n",
    "\n",
    "## Conclusions and Recommendations\n",
    "\n",
    "Simple modeling yields reasonable accuracy in predicting if a post and its associated behavior can be categorized as unethical or illegal.  More data sourced, additional feature engineering, and more modelling tecniques will increase accuracy.  It is reasonable to assume employers are capable of screening students and new job candidates based on machine learning nuanced language.\n",
    "\n",
    "Recommendations:\n",
    "- Expand on current study to : 1) ensure modelling accuracy, and 2) refine how online groups influence students’ ‘collectivism’\n",
    "- Advise University Career Services to enact stricter guidance to graduating students about cleaning and maintaining social profiles.\n",
    "- Approach University staff to urge more overall education in Ethics.  Ethics is standard study for many disciplines, medical, legal, business, theology.  Increased education in ethics at an earlier stage can begin to curb unhealthy attitudes toward scholastic cheating.\n",
    "\n",
    "\n",
    "(1)https://www.sciencedaily.com/releases/2019/11/191127121235.htm\n",
    "(2)https://www.cnbc.com/2018/08/10/digital-dirt-may-nix-that-job-you-were-counting-on-getting.html\n",
    "\n",
    "---"
   ]
  },
  {
   "cell_type": "markdown",
   "metadata": {},
   "source": [
    "Online posts sraped from following subreddits:\n",
    "- LifeProTips='https://www.reddit.com/r/LifeProTips.json'\n",
    "- UnethicalLifeProTips='https://www.reddit.com/r/UnethicalLifeProTips.json'\n",
    "- IllegalLifePro Tips='https://www.reddit.com/r/IllegalLifeProTips.json'\n",
    "\n",
    "|Feature|Type|Subreddit/dataset|Description|\n",
    "|---|---|---|---|\n",
    "|title|string |Regular'Ethical'/Unethical/Illegal Life Pro Tips|Title of the post|\n",
    "|selftext|string|Ethical/Unethical/Illegal|Body of the text|\n",
    "|subreddit|string/int|Ethical/Unethical/Illegal|Identifier for specific subreddit|\n",
    "|author|string|Ethical/Unethical/Illegal|Author of post|\n",
    "|num_comments|int|Ethical/Unethical/Illegal|Number of comments per post|\n",
    "|score|int|Ethical/Unethical/illegal|Score (thumbs up) per post|\n",
    "|is_self|string|Ethical/Unethical/Illegal|Reddit indicatro of type of post|\n",
    "|created_UTC/timestamp|date/time|Ethical/Unethical/Illegal|Timestamps for post|\n"
   ]
  },
  {
   "cell_type": "markdown",
   "metadata": {},
   "source": [
    "## 1. Importing tools and data\n",
    "### Import tools"
   ]
  },
  {
   "cell_type": "code",
   "execution_count": 1,
   "metadata": {},
   "outputs": [],
   "source": [
    "import requests\n",
    "import numpy as np\n",
    "import pandas as pd\n",
    "import matplotlib.pyplot as plt\n",
    "import seaborn as sns\n",
    "import time\n",
    "\n",
    "from sklearn.pipeline import Pipeline\n",
    "from sklearn.model_selection import train_test_split, GridSearchCV\n",
    "from sklearn.linear_model import LogisticRegression\n",
    "\n",
    "from sklearn.feature_extraction.text import CountVectorizer, TfidfVectorizer\n",
    "\n",
    "from sklearn.model_selection import train_test_split, cross_val_score\n",
    "from sklearn.metrics import confusion_matrix\n",
    "\n",
    "from sklearn.linear_model import LogisticRegression, LogisticRegressionCV\n",
    "from sklearn.metrics import r2_score\n",
    "\n",
    "from sklearn.naive_bayes import GaussianNB, MultinomialNB, BernoulliNB\n",
    "\n",
    "from sklearn.metrics import roc_auc_score\n",
    "\n",
    "from sklearn.svm import SVC\n",
    "from sklearn.metrics import accuracy_score"
   ]
  },
  {
   "cell_type": "markdown",
   "metadata": {},
   "source": [
    "## Scrape data from the following websits\n",
    "- my_url='https://www.reddit.com/r/LifeProTips.json'\n",
    "- my_url='https://www.reddit.com/r/UnethicalLifeProTips.json'\n",
    "- my_url='https://www.reddit.com/r/IllegalLifeProTips.json'\n",
    " "
   ]
  },
  {
   "cell_type": "markdown",
   "metadata": {},
   "source": [
    "### 1.1 Original request code for data gathering \n",
    "### Code not used, but saved as reference for alternative data gathering method\n",
    "#### Connect to reddit pages and make sure status code is good #### Double click here to see the code\n",
    "\n",
    "my_url='https://www.reddit.com/r/LifeProTips.json'\n",
    "my_url='https://www.reddit.com/r/UnethicalLifeProTips.json'\n",
    "my_url='https://www.reddit.com/r/IllegalLifeProTips.json'\n",
    "\n",
    "my_header={'User-agent':'gg_agent'}\n",
    "res=requests.get(my_url,headers=my_header)\n",
    "my_json=res.json()\n",
    "res.status_code, my_json['data']['after']"
   ]
  },
  {
   "cell_type": "markdown",
   "metadata": {},
   "source": [
    "#### Pull reddit posts and save to a file #### Double click here to see the code\n",
    "\n",
    "post=[]\n",
    "after=None\n",
    "for i in range(300):\n",
    "    if after==None:\n",
    "        params={}\n",
    "    else:params={'after':after}\n",
    "    res=requests.get(my_url,headers=my_header,params=params)\n",
    "    if res.status_code==200:\n",
    "        my_json=res.json()\n",
    "        post.extend(my_json['data']['children'])\n",
    "        after=my_json['data']['after']\n",
    "    else:\n",
    "        print(res.status_code)\n",
    "        break\n",
    "    time.sleep(2)  # this slows the code down to signal reddit you are not hostile\n",
    "    #print(i)\n",
    "    if i>0 and i%5==0:\n",
    "        pd.DataFrame(post).to_csv('ILPT_reddit.csv',index=False)\n",
    "        print(f\"Saved {len(post)} posts\")\n",
    "        \n",
    "\n",
    "\n",
    "df = df.drop_duplicates(subset='data', keep=\"first\")\n",
    "df.reset_index(drop=True,inplace=True)\n",
    "type(eval(df.data.iloc[2]))\n",
    "df['subreddit'], df['title'], df['selftext'], df['num_comments']= ['x', 'y', 'z', 0]\n",
    "\n",
    "#we pull out the dictionary values we want\n",
    "my_colnames= ['subreddit','title', 'selftext','num_comments']\n",
    "for j in my_colnames:\n",
    "    for i in range(0,len(df)):\n",
    "        df[j][i] = eval(df.data.iloc[i])[j]    \n",
    "\n",
    "#I notice some of the messages are reddit notifications and not real posts\n",
    "#this function selects those posts with 'LPT\" in it (ie LPT and ULPT and ILPT) and discards the rest\n",
    "df = df[df['title'].str.contains(\"LPT\")]\n",
    "len(df)\n"
   ]
  },
  {
   "cell_type": "markdown",
   "metadata": {},
   "source": [
    "### 1.2 PushIO code for data gathering\n",
    "#### BIG THANKS TO RAFFY for sharing  #### Double click to see code\n",
    "\n",
    "\n",
    "import datetime as dt\n",
    "def get_date(created):\n",
    "    # get the date of post\n",
    "    return dt.date.fromtimestamp(created)\n",
    "\n",
    "def query_pushshift(subreddit, kind='submission', skip=5, times=50, \n",
    "                    subfield = ['title', 'selftext', 'subreddit', 'created_utc', 'author', 'num_comments',\n",
    "                                'score', 'is_self'],\n",
    "                    comfields = ['body', 'score', 'created_utc']):\n",
    "    # get the base url that contains information I want to scrape where 'kind' are all submitted posts\n",
    "    # and 'subreddit' is the specified subreddit. Get 500 posts.\n",
    "    stem = f\"https://api.pushshift.io/reddit/search/{kind}/?subreddit={subreddit}&size=500\"\n",
    "    # instantiate list to contain \n",
    "    mylist = []\n",
    "    # scrape posts from the subreddit 'times' times\n",
    "    for x in range(1, times + 1):\n",
    "        # Get posts 'skip' * 'x' days ago\n",
    "        URL = f\"{stem}&after={skip * x}d\"\n",
    "        print(URL)\n",
    "        # Scrape URL\n",
    "        response = requests.get(URL)\n",
    "        # Give me an AssertionError if status code not 200\n",
    "        assert response.status_code == 200\n",
    "        # Of the HTML scraped, take the values of 'data'\n",
    "        the_json=response.json()\n",
    "        no_blanks=[c for c in the_json['data'] if ('selftext' in c.keys()) and len(c['selftext'])>10]\n",
    "        # turn the data into a dataframe\n",
    "        df = pd.DataFrame.from_dict(no_blanks)\n",
    "        # append the dataframe to mylist\n",
    "        mylist.append(df)\n",
    "        # wait to not overrun Reddit's resources\n",
    "        time.sleep(3)\n",
    "    # concatenate the dataframes together as one large dataframe, full\n",
    "    full = pd.concat(mylist, sort=False)\n",
    "    if kind == \"submission\":\n",
    "        # take all speficied data\n",
    "        full = full[subfield]\n",
    "        # drop duplicate rows\n",
    "        full = full.drop_duplicates()\n",
    "        full = full.loc[full['is_self'] == True]\n",
    "    # date the the post was... posted\n",
    "    _timestamp = full[\"created_utc\"].apply(get_date)\n",
    "    full['timestamp'] = _timestamp\n",
    "    print(full.shape)\n",
    "    return full"
   ]
  },
  {
   "cell_type": "code",
   "execution_count": 2,
   "metadata": {},
   "outputs": [],
   "source": [
    "#df_uneth = query_pushshift(subreddit = 'unethicallifeprotips', skip = 1, times=300)"
   ]
  },
  {
   "cell_type": "markdown",
   "metadata": {},
   "source": [
    "#df_eth.to_csv(\"eth_reddit.csv\",index=False, header=True)\n",
    "df_uneth.to_csv(\"uneth_reddit.csv\", index=False, header=True)\n",
    "#df_illegal.to_csv(\"illegal_reddit.csv\", index=False, header = True)"
   ]
  },
  {
   "cell_type": "markdown",
   "metadata": {},
   "source": [
    "## 2. Clean Data\n",
    "#### Please note, the following code was run several times to create multiple datasets"
   ]
  },
  {
   "cell_type": "code",
   "execution_count": 3,
   "metadata": {},
   "outputs": [
    {
     "data": {
      "text/html": [
       "<div>\n",
       "<style scoped>\n",
       "    .dataframe tbody tr th:only-of-type {\n",
       "        vertical-align: middle;\n",
       "    }\n",
       "\n",
       "    .dataframe tbody tr th {\n",
       "        vertical-align: top;\n",
       "    }\n",
       "\n",
       "    .dataframe thead th {\n",
       "        text-align: right;\n",
       "    }\n",
       "</style>\n",
       "<table border=\"1\" class=\"dataframe\">\n",
       "  <thead>\n",
       "    <tr style=\"text-align: right;\">\n",
       "      <th></th>\n",
       "      <th>title</th>\n",
       "      <th>selftext</th>\n",
       "      <th>subreddit</th>\n",
       "      <th>created_utc</th>\n",
       "      <th>author</th>\n",
       "      <th>num_comments</th>\n",
       "      <th>score</th>\n",
       "      <th>is_self</th>\n",
       "      <th>timestamp</th>\n",
       "    </tr>\n",
       "  </thead>\n",
       "  <tbody>\n",
       "    <tr>\n",
       "      <td>0</td>\n",
       "      <td>ULPT - Got some business cards of people you d...</td>\n",
       "      <td>Keep 'em! If you ever hit a parked car, write ...</td>\n",
       "      <td>UnethicalLifeProTips</td>\n",
       "      <td>1580345880</td>\n",
       "      <td>cibtd</td>\n",
       "      <td>4</td>\n",
       "      <td>1</td>\n",
       "      <td>True</td>\n",
       "      <td>2020-01-29</td>\n",
       "    </tr>\n",
       "    <tr>\n",
       "      <td>1</td>\n",
       "      <td>ULPT Request: How to return an unwanted survei...</td>\n",
       "      <td>Won a raffle and the prize was a google smart ...</td>\n",
       "      <td>UnethicalLifeProTips</td>\n",
       "      <td>1580346688</td>\n",
       "      <td>2humps1camel</td>\n",
       "      <td>6</td>\n",
       "      <td>1</td>\n",
       "      <td>True</td>\n",
       "      <td>2020-01-29</td>\n",
       "    </tr>\n",
       "    <tr>\n",
       "      <td>2</td>\n",
       "      <td>ULPT Request: I need a free White Pages Premiu...</td>\n",
       "      <td>Anyone know how I might accomplish that?</td>\n",
       "      <td>UnethicalLifeProTips</td>\n",
       "      <td>1580349400</td>\n",
       "      <td>YetAnotherStepBack</td>\n",
       "      <td>1</td>\n",
       "      <td>1</td>\n",
       "      <td>True</td>\n",
       "      <td>2020-01-29</td>\n",
       "    </tr>\n",
       "    <tr>\n",
       "      <td>3</td>\n",
       "      <td>ULPT: Help improve vaccination rates by encour...</td>\n",
       "      <td>Next flu season, vaccination rates will be hig...</td>\n",
       "      <td>UnethicalLifeProTips</td>\n",
       "      <td>1580350376</td>\n",
       "      <td>cramduck</td>\n",
       "      <td>277</td>\n",
       "      <td>1</td>\n",
       "      <td>True</td>\n",
       "      <td>2020-01-29</td>\n",
       "    </tr>\n",
       "    <tr>\n",
       "      <td>4</td>\n",
       "      <td>ULPT: How to get away with anything using a ca...</td>\n",
       "      <td>Place one or multiple cameras in the area you ...</td>\n",
       "      <td>UnethicalLifeProTips</td>\n",
       "      <td>1580350881</td>\n",
       "      <td>becuziwasinverted</td>\n",
       "      <td>4</td>\n",
       "      <td>1</td>\n",
       "      <td>True</td>\n",
       "      <td>2020-01-29</td>\n",
       "    </tr>\n",
       "  </tbody>\n",
       "</table>\n",
       "</div>"
      ],
      "text/plain": [
       "                                               title  \\\n",
       "0  ULPT - Got some business cards of people you d...   \n",
       "1  ULPT Request: How to return an unwanted survei...   \n",
       "2  ULPT Request: I need a free White Pages Premiu...   \n",
       "3  ULPT: Help improve vaccination rates by encour...   \n",
       "4  ULPT: How to get away with anything using a ca...   \n",
       "\n",
       "                                            selftext             subreddit  \\\n",
       "0  Keep 'em! If you ever hit a parked car, write ...  UnethicalLifeProTips   \n",
       "1  Won a raffle and the prize was a google smart ...  UnethicalLifeProTips   \n",
       "2           Anyone know how I might accomplish that?  UnethicalLifeProTips   \n",
       "3  Next flu season, vaccination rates will be hig...  UnethicalLifeProTips   \n",
       "4  Place one or multiple cameras in the area you ...  UnethicalLifeProTips   \n",
       "\n",
       "   created_utc              author  num_comments  score  is_self   timestamp  \n",
       "0   1580345880               cibtd             4      1     True  2020-01-29  \n",
       "1   1580346688        2humps1camel             6      1     True  2020-01-29  \n",
       "2   1580349400  YetAnotherStepBack             1      1     True  2020-01-29  \n",
       "3   1580350376            cramduck           277      1     True  2020-01-29  \n",
       "4   1580350881   becuziwasinverted             4      1     True  2020-01-29  "
      ]
     },
     "execution_count": 3,
     "metadata": {},
     "output_type": "execute_result"
    }
   ],
   "source": [
    "#df = pd.read_csv('eth_reddit.csv')\n",
    "df = pd.read_csv('uneth_reddit.csv')\n",
    "#df = pd.read_csv('illegal_reddit.csv')\n",
    "df.head()"
   ]
  },
  {
   "cell_type": "code",
   "execution_count": 4,
   "metadata": {},
   "outputs": [
    {
     "data": {
      "text/html": [
       "<div>\n",
       "<style scoped>\n",
       "    .dataframe tbody tr th:only-of-type {\n",
       "        vertical-align: middle;\n",
       "    }\n",
       "\n",
       "    .dataframe tbody tr th {\n",
       "        vertical-align: top;\n",
       "    }\n",
       "\n",
       "    .dataframe thead th {\n",
       "        text-align: right;\n",
       "    }\n",
       "</style>\n",
       "<table border=\"1\" class=\"dataframe\">\n",
       "  <thead>\n",
       "    <tr style=\"text-align: right;\">\n",
       "      <th></th>\n",
       "      <th>title</th>\n",
       "      <th>selftext</th>\n",
       "      <th>subreddit</th>\n",
       "      <th>created_utc</th>\n",
       "      <th>author</th>\n",
       "      <th>num_comments</th>\n",
       "      <th>score</th>\n",
       "      <th>is_self</th>\n",
       "      <th>timestamp</th>\n",
       "    </tr>\n",
       "  </thead>\n",
       "  <tbody>\n",
       "    <tr>\n",
       "      <td>0</td>\n",
       "      <td>- Got some business cards of people you don't...</td>\n",
       "      <td>Keep 'em! If you ever hit a parked car, write ...</td>\n",
       "      <td>UnethicalLifeProTips</td>\n",
       "      <td>1580345880</td>\n",
       "      <td>cibtd</td>\n",
       "      <td>4</td>\n",
       "      <td>1</td>\n",
       "      <td>True</td>\n",
       "      <td>2020-01-29</td>\n",
       "    </tr>\n",
       "    <tr>\n",
       "      <td>1</td>\n",
       "      <td>Request: How to return an unwanted surveillan...</td>\n",
       "      <td>Won a raffle and the prize was a google smart ...</td>\n",
       "      <td>UnethicalLifeProTips</td>\n",
       "      <td>1580346688</td>\n",
       "      <td>2humps1camel</td>\n",
       "      <td>6</td>\n",
       "      <td>1</td>\n",
       "      <td>True</td>\n",
       "      <td>2020-01-29</td>\n",
       "    </tr>\n",
       "    <tr>\n",
       "      <td>2</td>\n",
       "      <td>Request: I need a free White Pages Premium ac...</td>\n",
       "      <td>Anyone know how I might accomplish that?</td>\n",
       "      <td>UnethicalLifeProTips</td>\n",
       "      <td>1580349400</td>\n",
       "      <td>YetAnotherStepBack</td>\n",
       "      <td>1</td>\n",
       "      <td>1</td>\n",
       "      <td>True</td>\n",
       "      <td>2020-01-29</td>\n",
       "    </tr>\n",
       "    <tr>\n",
       "      <td>3</td>\n",
       "      <td>Help improve vaccination rates by encouraging...</td>\n",
       "      <td>Next flu season, vaccination rates will be hig...</td>\n",
       "      <td>UnethicalLifeProTips</td>\n",
       "      <td>1580350376</td>\n",
       "      <td>cramduck</td>\n",
       "      <td>277</td>\n",
       "      <td>1</td>\n",
       "      <td>True</td>\n",
       "      <td>2020-01-29</td>\n",
       "    </tr>\n",
       "    <tr>\n",
       "      <td>4</td>\n",
       "      <td>How to get away with anything using a camera!</td>\n",
       "      <td>Place one or multiple cameras in the area you ...</td>\n",
       "      <td>UnethicalLifeProTips</td>\n",
       "      <td>1580350881</td>\n",
       "      <td>becuziwasinverted</td>\n",
       "      <td>4</td>\n",
       "      <td>1</td>\n",
       "      <td>True</td>\n",
       "      <td>2020-01-29</td>\n",
       "    </tr>\n",
       "  </tbody>\n",
       "</table>\n",
       "</div>"
      ],
      "text/plain": [
       "                                               title  \\\n",
       "0   - Got some business cards of people you don't...   \n",
       "1   Request: How to return an unwanted surveillan...   \n",
       "2   Request: I need a free White Pages Premium ac...   \n",
       "3   Help improve vaccination rates by encouraging...   \n",
       "4      How to get away with anything using a camera!   \n",
       "\n",
       "                                            selftext             subreddit  \\\n",
       "0  Keep 'em! If you ever hit a parked car, write ...  UnethicalLifeProTips   \n",
       "1  Won a raffle and the prize was a google smart ...  UnethicalLifeProTips   \n",
       "2           Anyone know how I might accomplish that?  UnethicalLifeProTips   \n",
       "3  Next flu season, vaccination rates will be hig...  UnethicalLifeProTips   \n",
       "4  Place one or multiple cameras in the area you ...  UnethicalLifeProTips   \n",
       "\n",
       "   created_utc              author  num_comments  score  is_self   timestamp  \n",
       "0   1580345880               cibtd             4      1     True  2020-01-29  \n",
       "1   1580346688        2humps1camel             6      1     True  2020-01-29  \n",
       "2   1580349400  YetAnotherStepBack             1      1     True  2020-01-29  \n",
       "3   1580350376            cramduck           277      1     True  2020-01-29  \n",
       "4   1580350881   becuziwasinverted             4      1     True  2020-01-29  "
      ]
     },
     "execution_count": 4,
     "metadata": {},
     "output_type": "execute_result"
    }
   ],
   "source": [
    "# REALLY cool function to aid in editing string!\n",
    "import string\n",
    "\n",
    "# this function removes the LPT or ULPT or ILPT from the start of the title\n",
    "# otherwise it would be too easy to predict the post!\n",
    "df['title'] = df['title'].str.lstrip('ILPT:')\n",
    "df['title'] = df['title'].str.lstrip('ULPT:')\n",
    "df.head()"
   ]
  },
  {
   "cell_type": "code",
   "execution_count": 5,
   "metadata": {},
   "outputs": [
    {
     "data": {
      "text/html": [
       "<div>\n",
       "<style scoped>\n",
       "    .dataframe tbody tr th:only-of-type {\n",
       "        vertical-align: middle;\n",
       "    }\n",
       "\n",
       "    .dataframe tbody tr th {\n",
       "        vertical-align: top;\n",
       "    }\n",
       "\n",
       "    .dataframe thead th {\n",
       "        text-align: right;\n",
       "    }\n",
       "</style>\n",
       "<table border=\"1\" class=\"dataframe\">\n",
       "  <thead>\n",
       "    <tr style=\"text-align: right;\">\n",
       "      <th></th>\n",
       "      <th>title</th>\n",
       "      <th>selftext</th>\n",
       "      <th>subreddit</th>\n",
       "      <th>created_utc</th>\n",
       "      <th>author</th>\n",
       "      <th>num_comments</th>\n",
       "      <th>score</th>\n",
       "      <th>is_self</th>\n",
       "      <th>timestamp</th>\n",
       "    </tr>\n",
       "  </thead>\n",
       "  <tbody>\n",
       "    <tr>\n",
       "      <td>0</td>\n",
       "      <td>- Got some business cards of people you don't ...</td>\n",
       "      <td>Keep 'em! If you ever hit a parked car, write ...</td>\n",
       "      <td>UnethicalLifeProTips</td>\n",
       "      <td>1580345880</td>\n",
       "      <td>cibtd</td>\n",
       "      <td>4</td>\n",
       "      <td>1</td>\n",
       "      <td>True</td>\n",
       "      <td>2020-01-29</td>\n",
       "    </tr>\n",
       "    <tr>\n",
       "      <td>1</td>\n",
       "      <td>How to return an unwanted surveillance device ...</td>\n",
       "      <td>Won a raffle and the prize was a google smart ...</td>\n",
       "      <td>UnethicalLifeProTips</td>\n",
       "      <td>1580346688</td>\n",
       "      <td>2humps1camel</td>\n",
       "      <td>6</td>\n",
       "      <td>1</td>\n",
       "      <td>True</td>\n",
       "      <td>2020-01-29</td>\n",
       "    </tr>\n",
       "    <tr>\n",
       "      <td>2</td>\n",
       "      <td>I need a free White Pages Premium account.</td>\n",
       "      <td>Anyone know how I might accomplish that?</td>\n",
       "      <td>UnethicalLifeProTips</td>\n",
       "      <td>1580349400</td>\n",
       "      <td>YetAnotherStepBack</td>\n",
       "      <td>1</td>\n",
       "      <td>1</td>\n",
       "      <td>True</td>\n",
       "      <td>2020-01-29</td>\n",
       "    </tr>\n",
       "    <tr>\n",
       "      <td>3</td>\n",
       "      <td>Help improve vaccination rates by encouraging ...</td>\n",
       "      <td>Next flu season, vaccination rates will be hig...</td>\n",
       "      <td>UnethicalLifeProTips</td>\n",
       "      <td>1580350376</td>\n",
       "      <td>cramduck</td>\n",
       "      <td>277</td>\n",
       "      <td>1</td>\n",
       "      <td>True</td>\n",
       "      <td>2020-01-29</td>\n",
       "    </tr>\n",
       "    <tr>\n",
       "      <td>4</td>\n",
       "      <td>How to get away with anything using a camera!</td>\n",
       "      <td>Place one or multiple cameras in the area you ...</td>\n",
       "      <td>UnethicalLifeProTips</td>\n",
       "      <td>1580350881</td>\n",
       "      <td>becuziwasinverted</td>\n",
       "      <td>4</td>\n",
       "      <td>1</td>\n",
       "      <td>True</td>\n",
       "      <td>2020-01-29</td>\n",
       "    </tr>\n",
       "  </tbody>\n",
       "</table>\n",
       "</div>"
      ],
      "text/plain": [
       "                                               title  \\\n",
       "0  - Got some business cards of people you don't ...   \n",
       "1  How to return an unwanted surveillance device ...   \n",
       "2         I need a free White Pages Premium account.   \n",
       "3  Help improve vaccination rates by encouraging ...   \n",
       "4      How to get away with anything using a camera!   \n",
       "\n",
       "                                            selftext             subreddit  \\\n",
       "0  Keep 'em! If you ever hit a parked car, write ...  UnethicalLifeProTips   \n",
       "1  Won a raffle and the prize was a google smart ...  UnethicalLifeProTips   \n",
       "2           Anyone know how I might accomplish that?  UnethicalLifeProTips   \n",
       "3  Next flu season, vaccination rates will be hig...  UnethicalLifeProTips   \n",
       "4  Place one or multiple cameras in the area you ...  UnethicalLifeProTips   \n",
       "\n",
       "   created_utc              author  num_comments  score  is_self   timestamp  \n",
       "0   1580345880               cibtd             4      1     True  2020-01-29  \n",
       "1   1580346688        2humps1camel             6      1     True  2020-01-29  \n",
       "2   1580349400  YetAnotherStepBack             1      1     True  2020-01-29  \n",
       "3   1580350376            cramduck           277      1     True  2020-01-29  \n",
       "4   1580350881   becuziwasinverted             4      1     True  2020-01-29  "
      ]
     },
     "execution_count": 5,
     "metadata": {},
     "output_type": "execute_result"
    }
   ],
   "source": [
    "# this function removes the word 'Request' from the start of the title \n",
    "# I noticed that many of the 'illegal'LPT were requests and this could sway results\n",
    "#DECISION made to remove \"request\" from all posts\n",
    "df['title'] = df['title'].str.lstrip(' Request:')\n",
    "df['title'] = df['title'].str.lstrip(' request:')\n",
    "df.head()"
   ]
  },
  {
   "cell_type": "code",
   "execution_count": 6,
   "metadata": {},
   "outputs": [
    {
     "data": {
      "text/plain": [
       "7154"
      ]
     },
     "execution_count": 6,
     "metadata": {},
     "output_type": "execute_result"
    }
   ],
   "source": [
    "len(df)"
   ]
  },
  {
   "cell_type": "code",
   "execution_count": 7,
   "metadata": {},
   "outputs": [
    {
     "data": {
      "text/plain": [
       "6768"
      ]
     },
     "execution_count": 7,
     "metadata": {},
     "output_type": "execute_result"
    }
   ],
   "source": [
    "# we get rid of posts with little/ no text in title\n",
    "df = df.drop(df[df.title.str.len() < 20].index)\n",
    "len(df)"
   ]
  },
  {
   "cell_type": "code",
   "execution_count": 8,
   "metadata": {},
   "outputs": [
    {
     "data": {
      "text/plain": [
       "6679"
      ]
     },
     "execution_count": 8,
     "metadata": {},
     "output_type": "execute_result"
    }
   ],
   "source": [
    "# get rid of posts with duplicate titles\n",
    "df = df.drop_duplicates(subset='title', keep=\"first\")\n",
    "len(df)"
   ]
  },
  {
   "cell_type": "code",
   "execution_count": 9,
   "metadata": {},
   "outputs": [
    {
     "data": {
      "text/plain": [
       "6614"
      ]
     },
     "execution_count": 9,
     "metadata": {},
     "output_type": "execute_result"
    }
   ],
   "source": [
    "# We get rid of posts with little/ no text in selftext\n",
    "df = df.drop(df[df.selftext.str.len() < 20].index)\n",
    "len(df)"
   ]
  },
  {
   "cell_type": "code",
   "execution_count": 10,
   "metadata": {},
   "outputs": [
    {
     "data": {
      "text/plain": [
       "6501"
      ]
     },
     "execution_count": 10,
     "metadata": {},
     "output_type": "execute_result"
    }
   ],
   "source": [
    "# get rid of posts with duplicate selftexts\n",
    "df = df.drop_duplicates(subset='selftext', keep=\"first\")\n",
    "len(df)"
   ]
  },
  {
   "cell_type": "code",
   "execution_count": 11,
   "metadata": {},
   "outputs": [
    {
     "data": {
      "text/plain": [
       "6447"
      ]
     },
     "execution_count": 11,
     "metadata": {},
     "output_type": "execute_result"
    }
   ],
   "source": [
    "# we drop posts where the selftext is just a website\n",
    "df = df.drop(df[df['selftext'].str.match('http')].index)\n",
    "df = df.drop(df[df['selftext'].str.match('\\\\[http')].index)\n",
    "len(df)"
   ]
  },
  {
   "cell_type": "code",
   "execution_count": 12,
   "metadata": {},
   "outputs": [
    {
     "data": {
      "text/plain": [
       "dirtymoney      19\n",
       "sportscience    15\n",
       "noway2019       13\n",
       "_MrUnethical    10\n",
       "Name: author, dtype: int64"
      ]
     },
     "execution_count": 12,
     "metadata": {},
     "output_type": "execute_result"
    }
   ],
   "source": [
    "# we notice we still have some duplicate posts - users add spaces, punctuation, words, or CAPS to make posts different\n",
    "# I look at 'hi-volume' posters to see if we have any hi-volumen offenders.... and we DON'T!\n",
    "df.author.value_counts().loc[df.author.value_counts() >=10 ]\n",
    "# Decsion made to assume the risk of keeping duplicate posts."
   ]
  },
  {
   "cell_type": "code",
   "execution_count": 13,
   "metadata": {},
   "outputs": [
    {
     "data": {
      "text/html": [
       "<div>\n",
       "<style scoped>\n",
       "    .dataframe tbody tr th:only-of-type {\n",
       "        vertical-align: middle;\n",
       "    }\n",
       "\n",
       "    .dataframe tbody tr th {\n",
       "        vertical-align: top;\n",
       "    }\n",
       "\n",
       "    .dataframe thead th {\n",
       "        text-align: right;\n",
       "    }\n",
       "</style>\n",
       "<table border=\"1\" class=\"dataframe\">\n",
       "  <thead>\n",
       "    <tr style=\"text-align: right;\">\n",
       "      <th></th>\n",
       "      <th>title</th>\n",
       "      <th>selftext</th>\n",
       "      <th>subreddit</th>\n",
       "      <th>created_utc</th>\n",
       "      <th>author</th>\n",
       "      <th>num_comments</th>\n",
       "      <th>score</th>\n",
       "      <th>is_self</th>\n",
       "      <th>timestamp</th>\n",
       "      <th>title_selftext</th>\n",
       "    </tr>\n",
       "  </thead>\n",
       "  <tbody>\n",
       "    <tr>\n",
       "      <td>7152</td>\n",
       "      <td>Getting pulled over for using your smartphone?...</td>\n",
       "      <td>Most state laws and local ordinances against u...</td>\n",
       "      <td>UnethicalLifeProTips</td>\n",
       "      <td>1554586946</td>\n",
       "      <td>Zer0Summoner</td>\n",
       "      <td>2</td>\n",
       "      <td>0</td>\n",
       "      <td>True</td>\n",
       "      <td>2019-04-06</td>\n",
       "      <td>Getting pulled over for using your smartphone?...</td>\n",
       "    </tr>\n",
       "    <tr>\n",
       "      <td>7153</td>\n",
       "      <td>Why don't Americans celebrate easter?</td>\n",
       "      <td>Don't tell me they do or you're just a filthy ...</td>\n",
       "      <td>UnethicalLifeProTips</td>\n",
       "      <td>1554595975</td>\n",
       "      <td>prototype_4</td>\n",
       "      <td>1</td>\n",
       "      <td>1</td>\n",
       "      <td>True</td>\n",
       "      <td>2019-04-06</td>\n",
       "      <td>Why don't Americans celebrate easter?Don't tel...</td>\n",
       "    </tr>\n",
       "  </tbody>\n",
       "</table>\n",
       "</div>"
      ],
      "text/plain": [
       "                                                  title  \\\n",
       "7152  Getting pulled over for using your smartphone?...   \n",
       "7153              Why don't Americans celebrate easter?   \n",
       "\n",
       "                                               selftext             subreddit  \\\n",
       "7152  Most state laws and local ordinances against u...  UnethicalLifeProTips   \n",
       "7153  Don't tell me they do or you're just a filthy ...  UnethicalLifeProTips   \n",
       "\n",
       "      created_utc        author  num_comments  score  is_self   timestamp  \\\n",
       "7152   1554586946  Zer0Summoner             2      0     True  2019-04-06   \n",
       "7153   1554595975   prototype_4             1      1     True  2019-04-06   \n",
       "\n",
       "                                         title_selftext  \n",
       "7152  Getting pulled over for using your smartphone?...  \n",
       "7153  Why don't Americans celebrate easter?Don't tel...  "
      ]
     },
     "execution_count": 13,
     "metadata": {},
     "output_type": "execute_result"
    }
   ],
   "source": [
    "# let's create feature =  title + selftext \n",
    "df['title_selftext'] = df['title']+df['selftext']\n",
    "df.tail(2)"
   ]
  },
  {
   "cell_type": "markdown",
   "metadata": {},
   "source": [
    "### Some very simple EDA"
   ]
  },
  {
   "cell_type": "code",
   "execution_count": 14,
   "metadata": {},
   "outputs": [
    {
     "data": {
      "image/png": "[encoded data removed]",
      "text/plain": [
       "<Figure size 432x288 with 1 Axes>"
      ]
     },
     "metadata": {
      "needs_background": "light"
     },
     "output_type": "display_data"
    }
   ],
   "source": [
    "# this is histogram - character length of title\n",
    "plt.hist(df.title.str.len(), bins=20);\n",
    "# An interesting distribution"
   ]
  },
  {
   "cell_type": "code",
   "execution_count": 15,
   "metadata": {},
   "outputs": [
    {
     "data": {
      "image/png": "[encoded data removed]",
      "text/plain": [
       "<Figure size 432x288 with 1 Axes>"
      ]
     },
     "metadata": {
      "needs_background": "light"
     },
     "output_type": "display_data"
    }
   ],
   "source": [
    "# hisogram - character lenght of self text\n",
    "plt.hist(df.selftext.str.len(), bins=20);\n",
    "# most selftext is very short - a few outliers"
   ]
  },
  {
   "cell_type": "code",
   "execution_count": 16,
   "metadata": {},
   "outputs": [
    {
     "data": {
      "image/png": "[encoded data removed]",
      "text/plain": [
       "<Figure size 432x288 with 1 Axes>"
      ]
     },
     "metadata": {
      "needs_background": "light"
     },
     "output_type": "display_data"
    }
   ],
   "source": [
    "# histogram - number of comments\n",
    "plt.hist(df.num_comments.value_counts()  , bins=20);\n",
    "# most posts have below 25 comments - but many are very active"
   ]
  },
  {
   "cell_type": "code",
   "execution_count": 17,
   "metadata": {},
   "outputs": [
    {
     "data": {
      "image/png": "[encoded data removed]",
      "text/plain": [
       "<Figure size 432x288 with 1 Axes>"
      ]
     },
     "metadata": {
      "needs_background": "light"
     },
     "output_type": "display_data"
    }
   ],
   "source": [
    "# histogram - number of score\n",
    "plt.hist(df.score.value_counts()  , bins=20);\n",
    "# most posts have ow score - few outiers"
   ]
  },
  {
   "cell_type": "markdown",
   "metadata": {},
   "source": [
    "### Save data to files"
   ]
  },
  {
   "cell_type": "code",
   "execution_count": 18,
   "metadata": {},
   "outputs": [],
   "source": [
    "# these have been commented out to prevent any overwriting\n",
    "\n",
    "# Our 'ethical and unethical' data\n",
    "#df.to_csv('data_eth.csv', index=False, header=True)\n",
    "\n",
    "# our 'illegal and unethical' data\n",
    "#df.to_csv('data_uneth.csv', index=False, header=True)\n",
    "\n",
    "# our 'illegal' LPT posts\n",
    "#df.to_csv('data_illegal.csv', index=False, header=True)\n"
   ]
  },
  {
   "cell_type": "markdown",
   "metadata": {},
   "source": [
    "### Read in our cleaned data"
   ]
  },
  {
   "cell_type": "code",
   "execution_count": 19,
   "metadata": {},
   "outputs": [
    {
     "data": {
      "text/plain": [
       "(7613, 6447, 7128)"
      ]
     },
     "execution_count": 19,
     "metadata": {},
     "output_type": "execute_result"
    }
   ],
   "source": [
    "# becuase data was cleaned and saved earlier, we don't have to worry about  the risk of over-writing\n",
    "data_eth=pd.read_csv('data_eth.csv')\n",
    "data_uneth=pd.read_csv('data_uneth.csv')\n",
    "data_illegal=pd.read_csv('data_illegal.csv')\n",
    "len(data_eth), len(data_uneth), len(data_illegal)"
   ]
  },
  {
   "cell_type": "markdown",
   "metadata": {},
   "source": [
    "## 3.0 Modeling\n",
    "### Create baseline(s)"
   ]
  },
  {
   "cell_type": "code",
   "execution_count": 20,
   "metadata": {},
   "outputs": [
    {
     "name": "stdout",
     "output_type": "stream",
     "text": [
      "Data= Unethical vs Ethical\n",
      "0    0.541394\n",
      "1    0.458606\n",
      "Name: subreddit, dtype: float64\n"
     ]
    }
   ],
   "source": [
    "#Baseline for Data1 Unethical(1) vs Ethical(0) LPT posts\n",
    "data1 = pd.concat([data_eth, data_uneth], ignore_index=True)\n",
    "data1[['subreddit']]= data1[['subreddit']].replace({'LifeProTips':0,'UnethicalLifeProTips':1})\n",
    "\n",
    "y = data1.subreddit\n",
    "X = data1.title\n",
    "X_train, X_test, y_train, y_test = train_test_split(X, y, stratify=y, random_state=42)\n",
    "print(\"Data= Unethical vs Ethical\")\n",
    "print(y_test.value_counts(normalize=True))\n",
    "    \n",
    "# Baseline of 76.3%"
   ]
  },
  {
   "cell_type": "code",
   "execution_count": 21,
   "metadata": {},
   "outputs": [
    {
     "name": "stdout",
     "output_type": "stream",
     "text": [
      "Data= Illegal vs Unethical\n",
      "1    0.525044\n",
      "0    0.474956\n",
      "Name: subreddit, dtype: float64\n"
     ]
    }
   ],
   "source": [
    "#Baseline for Data2 Illegal(1) vs Unethical(0) LPT posts\n",
    "data2 = pd.concat([data_uneth, data_illegal], ignore_index=True)\n",
    "data2[['subreddit']]= data2[['subreddit']].replace({'UnethicalLifeProTips':0,'IllegalLifeProTips':1})\n",
    "\n",
    "y = data2.subreddit\n",
    "X = data2.title\n",
    "X_train, X_test, y_train, y_test = train_test_split(X, y, stratify=y, random_state=42)\n",
    "print(\"Data= Illegal vs Unethical\")\n",
    "print(y_test.value_counts(normalize=True))\n",
    "    \n",
    "# Baseline of 61.4%"
   ]
  },
  {
   "cell_type": "code",
   "execution_count": 22,
   "metadata": {
    "scrolled": true
   },
   "outputs": [
    {
     "name": "stdout",
     "output_type": "stream",
     "text": [
      "Data= Illegal vs Unethical\n",
      "0    0.516549\n",
      "1    0.483451\n",
      "Name: subreddit, dtype: float64\n"
     ]
    }
   ],
   "source": [
    "#Baseline for Data3 Illegal(1) vs Ethical(0) LPT posts\n",
    "data3 = pd.concat([data_eth, data_illegal], ignore_index=True)\n",
    "data3[['subreddit']]= data3[['subreddit']].replace({'LifeProTips':0,'IllegalLifeProTips':1})\n",
    "\n",
    "y = data3.subreddit\n",
    "X = data3.title\n",
    "X_train, X_test, y_train, y_test = train_test_split(X, y, stratify=y, random_state=42)\n",
    "print(\"Data= Illegal vs Unethical\")\n",
    "print(y_test.value_counts(normalize=True))\n",
    "    \n",
    "# Baseline of 66.8%"
   ]
  },
  {
   "cell_type": "markdown",
   "metadata": {},
   "source": [
    "# 3.0 Data Modeling\n",
    "## 3.1 Data 1 - Predicting Unethical vs Ethical Life Pro Tips\n",
    "### 3.1.1 Model 1.1 = Vectorizers and LogReg "
   ]
  },
  {
   "cell_type": "code",
   "execution_count": 51,
   "metadata": {},
   "outputs": [],
   "source": [
    "# CREATE PIPES for Vectorizers and Logreg\n",
    "\n",
    "# Vectorizer features\n",
    "my_max_features=[1200,1500]  # these features fine-tuned \n",
    "my_stop_words=[None]  #'english' stopwords removed, not significant\n",
    "my_ngram_range=[(1,1),(1,2)]\n",
    "my_min_df= [1,2] \n",
    "#my_max_df=[0.80, 0.90]  # this was not significant\n",
    "\n",
    "\n",
    "# pipe and parameters for cvec\n",
    "pipeC = Pipeline([\n",
    "    ('cvec', CountVectorizer()),\n",
    "    ('logreg', LogisticRegression(solver='lbfgs'))])\n",
    "\n",
    "    \n",
    "pipeC_params = {\n",
    "    'cvec__max_features': my_max_features,\n",
    "    'cvec__min_df': my_min_df,\n",
    "    #'cvec__max_df': my_max_df,\n",
    "    'cvec__stop_words': my_stop_words,\n",
    "    'cvec__ngram_range': my_ngram_range\n",
    "    }\n",
    "    \n",
    "\n",
    "# pipe and parameters for tvec\n",
    "pipeT = Pipeline([\n",
    "    ('tvec', TfidfVectorizer()),\n",
    "    ('logreg', LogisticRegression(solver='lbfgs'))])\n",
    "\n",
    "\n",
    "pipeT_params = {\n",
    "    'tvec__max_features': my_max_features,\n",
    "    'tvec__min_df': my_min_df,\n",
    "    #'tvec__max_df': my_max_df,    # not significant\n",
    "    'tvec__stop_words': my_stop_words,\n",
    "    'tvec__ngram_range': my_ngram_range,\n",
    "    }\n",
    " \n",
    "my_data=['title','selftext']  #selftext and title_selftext removed\n",
    "my_pipes=[pipeT,pipeC]  # PipeC removed\n",
    "my_pipeparams=[pipeT_params,pipeC_params]\n",
    "my_pipenames = ['TVectorizer','Cvec']"
   ]
  },
  {
   "cell_type": "code",
   "execution_count": 52,
   "metadata": {
    "scrolled": false
   },
   "outputs": [
    {
     "name": "stdout",
     "output_type": "stream",
     "text": [
      "Data1 title\n",
      "Model = TVectorizer\n",
      "GridSearch best params = \n",
      "{'tvec__max_features': 1500, 'tvec__min_df': 1, 'tvec__ngram_range': (1, 1), 'tvec__stop_words': None}\n",
      "GridSearch best score = 0.7751541014698909\n",
      "GS train score = 0.82475106685633\n",
      "GS test score  = 0.7817923186344239\n",
      "\n"
     ]
    },
    {
     "name": "stderr",
     "output_type": "stream",
     "text": [
      "C:\\Users\\msgig\\Anaconda3\\lib\\site-packages\\sklearn\\linear_model\\logistic.py:947: ConvergenceWarning: lbfgs failed to converge. Increase the number of iterations.\n",
      "  \"of iterations.\", ConvergenceWarning)\n",
      "C:\\Users\\msgig\\Anaconda3\\lib\\site-packages\\sklearn\\linear_model\\logistic.py:947: ConvergenceWarning: lbfgs failed to converge. Increase the number of iterations.\n",
      "  \"of iterations.\", ConvergenceWarning)\n",
      "C:\\Users\\msgig\\Anaconda3\\lib\\site-packages\\sklearn\\linear_model\\logistic.py:947: ConvergenceWarning: lbfgs failed to converge. Increase the number of iterations.\n",
      "  \"of iterations.\", ConvergenceWarning)\n",
      "C:\\Users\\msgig\\Anaconda3\\lib\\site-packages\\sklearn\\linear_model\\logistic.py:947: ConvergenceWarning: lbfgs failed to converge. Increase the number of iterations.\n",
      "  \"of iterations.\", ConvergenceWarning)\n",
      "C:\\Users\\msgig\\Anaconda3\\lib\\site-packages\\sklearn\\linear_model\\logistic.py:947: ConvergenceWarning: lbfgs failed to converge. Increase the number of iterations.\n",
      "  \"of iterations.\", ConvergenceWarning)\n",
      "C:\\Users\\msgig\\Anaconda3\\lib\\site-packages\\sklearn\\linear_model\\logistic.py:947: ConvergenceWarning: lbfgs failed to converge. Increase the number of iterations.\n",
      "  \"of iterations.\", ConvergenceWarning)\n",
      "C:\\Users\\msgig\\Anaconda3\\lib\\site-packages\\sklearn\\linear_model\\logistic.py:947: ConvergenceWarning: lbfgs failed to converge. Increase the number of iterations.\n",
      "  \"of iterations.\", ConvergenceWarning)\n",
      "C:\\Users\\msgig\\Anaconda3\\lib\\site-packages\\sklearn\\linear_model\\logistic.py:947: ConvergenceWarning: lbfgs failed to converge. Increase the number of iterations.\n",
      "  \"of iterations.\", ConvergenceWarning)\n",
      "C:\\Users\\msgig\\Anaconda3\\lib\\site-packages\\sklearn\\linear_model\\logistic.py:947: ConvergenceWarning: lbfgs failed to converge. Increase the number of iterations.\n",
      "  \"of iterations.\", ConvergenceWarning)\n",
      "C:\\Users\\msgig\\Anaconda3\\lib\\site-packages\\sklearn\\linear_model\\logistic.py:947: ConvergenceWarning: lbfgs failed to converge. Increase the number of iterations.\n",
      "  \"of iterations.\", ConvergenceWarning)\n",
      "C:\\Users\\msgig\\Anaconda3\\lib\\site-packages\\sklearn\\linear_model\\logistic.py:947: ConvergenceWarning: lbfgs failed to converge. Increase the number of iterations.\n",
      "  \"of iterations.\", ConvergenceWarning)\n",
      "C:\\Users\\msgig\\Anaconda3\\lib\\site-packages\\sklearn\\linear_model\\logistic.py:947: ConvergenceWarning: lbfgs failed to converge. Increase the number of iterations.\n",
      "  \"of iterations.\", ConvergenceWarning)\n",
      "C:\\Users\\msgig\\Anaconda3\\lib\\site-packages\\sklearn\\linear_model\\logistic.py:947: ConvergenceWarning: lbfgs failed to converge. Increase the number of iterations.\n",
      "  \"of iterations.\", ConvergenceWarning)\n",
      "C:\\Users\\msgig\\Anaconda3\\lib\\site-packages\\sklearn\\linear_model\\logistic.py:947: ConvergenceWarning: lbfgs failed to converge. Increase the number of iterations.\n",
      "  \"of iterations.\", ConvergenceWarning)\n",
      "C:\\Users\\msgig\\Anaconda3\\lib\\site-packages\\sklearn\\linear_model\\logistic.py:947: ConvergenceWarning: lbfgs failed to converge. Increase the number of iterations.\n",
      "  \"of iterations.\", ConvergenceWarning)\n",
      "C:\\Users\\msgig\\Anaconda3\\lib\\site-packages\\sklearn\\linear_model\\logistic.py:947: ConvergenceWarning: lbfgs failed to converge. Increase the number of iterations.\n",
      "  \"of iterations.\", ConvergenceWarning)\n",
      "C:\\Users\\msgig\\Anaconda3\\lib\\site-packages\\sklearn\\linear_model\\logistic.py:947: ConvergenceWarning: lbfgs failed to converge. Increase the number of iterations.\n",
      "  \"of iterations.\", ConvergenceWarning)\n",
      "C:\\Users\\msgig\\Anaconda3\\lib\\site-packages\\sklearn\\linear_model\\logistic.py:947: ConvergenceWarning: lbfgs failed to converge. Increase the number of iterations.\n",
      "  \"of iterations.\", ConvergenceWarning)\n",
      "C:\\Users\\msgig\\Anaconda3\\lib\\site-packages\\sklearn\\linear_model\\logistic.py:947: ConvergenceWarning: lbfgs failed to converge. Increase the number of iterations.\n",
      "  \"of iterations.\", ConvergenceWarning)\n",
      "C:\\Users\\msgig\\Anaconda3\\lib\\site-packages\\sklearn\\linear_model\\logistic.py:947: ConvergenceWarning: lbfgs failed to converge. Increase the number of iterations.\n",
      "  \"of iterations.\", ConvergenceWarning)\n",
      "C:\\Users\\msgig\\Anaconda3\\lib\\site-packages\\sklearn\\linear_model\\logistic.py:947: ConvergenceWarning: lbfgs failed to converge. Increase the number of iterations.\n",
      "  \"of iterations.\", ConvergenceWarning)\n",
      "C:\\Users\\msgig\\Anaconda3\\lib\\site-packages\\sklearn\\linear_model\\logistic.py:947: ConvergenceWarning: lbfgs failed to converge. Increase the number of iterations.\n",
      "  \"of iterations.\", ConvergenceWarning)\n",
      "C:\\Users\\msgig\\Anaconda3\\lib\\site-packages\\sklearn\\linear_model\\logistic.py:947: ConvergenceWarning: lbfgs failed to converge. Increase the number of iterations.\n",
      "  \"of iterations.\", ConvergenceWarning)\n",
      "C:\\Users\\msgig\\Anaconda3\\lib\\site-packages\\sklearn\\linear_model\\logistic.py:947: ConvergenceWarning: lbfgs failed to converge. Increase the number of iterations.\n",
      "  \"of iterations.\", ConvergenceWarning)\n",
      "C:\\Users\\msgig\\Anaconda3\\lib\\site-packages\\sklearn\\linear_model\\logistic.py:947: ConvergenceWarning: lbfgs failed to converge. Increase the number of iterations.\n",
      "  \"of iterations.\", ConvergenceWarning)\n"
     ]
    },
    {
     "name": "stdout",
     "output_type": "stream",
     "text": [
      "Data1 title\n",
      "Model = Cvec\n",
      "GridSearch best params = \n",
      "{'cvec__max_features': 1200, 'cvec__min_df': 2, 'cvec__ngram_range': (1, 1), 'cvec__stop_words': None}\n",
      "GridSearch best score = 0.7655761024182077\n",
      "GS train score = 0.8304409672830726\n",
      "GS test score  = 0.761877667140825\n",
      "\n",
      "Data1 selftext\n",
      "Model = TVectorizer\n",
      "GridSearch best params = \n",
      "{'tvec__max_features': 1500, 'tvec__min_df': 2, 'tvec__ngram_range': (1, 1), 'tvec__stop_words': None}\n",
      "GridSearch best score = 0.7519203413940256\n",
      "GS train score = 0.811284969179706\n",
      "GS test score  = 0.748221906116643\n",
      "\n"
     ]
    },
    {
     "name": "stderr",
     "output_type": "stream",
     "text": [
      "C:\\Users\\msgig\\Anaconda3\\lib\\site-packages\\sklearn\\linear_model\\logistic.py:947: ConvergenceWarning: lbfgs failed to converge. Increase the number of iterations.\n",
      "  \"of iterations.\", ConvergenceWarning)\n",
      "C:\\Users\\msgig\\Anaconda3\\lib\\site-packages\\sklearn\\linear_model\\logistic.py:947: ConvergenceWarning: lbfgs failed to converge. Increase the number of iterations.\n",
      "  \"of iterations.\", ConvergenceWarning)\n",
      "C:\\Users\\msgig\\Anaconda3\\lib\\site-packages\\sklearn\\linear_model\\logistic.py:947: ConvergenceWarning: lbfgs failed to converge. Increase the number of iterations.\n",
      "  \"of iterations.\", ConvergenceWarning)\n",
      "C:\\Users\\msgig\\Anaconda3\\lib\\site-packages\\sklearn\\linear_model\\logistic.py:947: ConvergenceWarning: lbfgs failed to converge. Increase the number of iterations.\n",
      "  \"of iterations.\", ConvergenceWarning)\n",
      "C:\\Users\\msgig\\Anaconda3\\lib\\site-packages\\sklearn\\linear_model\\logistic.py:947: ConvergenceWarning: lbfgs failed to converge. Increase the number of iterations.\n",
      "  \"of iterations.\", ConvergenceWarning)\n",
      "C:\\Users\\msgig\\Anaconda3\\lib\\site-packages\\sklearn\\linear_model\\logistic.py:947: ConvergenceWarning: lbfgs failed to converge. Increase the number of iterations.\n",
      "  \"of iterations.\", ConvergenceWarning)\n",
      "C:\\Users\\msgig\\Anaconda3\\lib\\site-packages\\sklearn\\linear_model\\logistic.py:947: ConvergenceWarning: lbfgs failed to converge. Increase the number of iterations.\n",
      "  \"of iterations.\", ConvergenceWarning)\n",
      "C:\\Users\\msgig\\Anaconda3\\lib\\site-packages\\sklearn\\linear_model\\logistic.py:947: ConvergenceWarning: lbfgs failed to converge. Increase the number of iterations.\n",
      "  \"of iterations.\", ConvergenceWarning)\n",
      "C:\\Users\\msgig\\Anaconda3\\lib\\site-packages\\sklearn\\linear_model\\logistic.py:947: ConvergenceWarning: lbfgs failed to converge. Increase the number of iterations.\n",
      "  \"of iterations.\", ConvergenceWarning)\n",
      "C:\\Users\\msgig\\Anaconda3\\lib\\site-packages\\sklearn\\linear_model\\logistic.py:947: ConvergenceWarning: lbfgs failed to converge. Increase the number of iterations.\n",
      "  \"of iterations.\", ConvergenceWarning)\n",
      "C:\\Users\\msgig\\Anaconda3\\lib\\site-packages\\sklearn\\linear_model\\logistic.py:947: ConvergenceWarning: lbfgs failed to converge. Increase the number of iterations.\n",
      "  \"of iterations.\", ConvergenceWarning)\n",
      "C:\\Users\\msgig\\Anaconda3\\lib\\site-packages\\sklearn\\linear_model\\logistic.py:947: ConvergenceWarning: lbfgs failed to converge. Increase the number of iterations.\n",
      "  \"of iterations.\", ConvergenceWarning)\n",
      "C:\\Users\\msgig\\Anaconda3\\lib\\site-packages\\sklearn\\linear_model\\logistic.py:947: ConvergenceWarning: lbfgs failed to converge. Increase the number of iterations.\n",
      "  \"of iterations.\", ConvergenceWarning)\n",
      "C:\\Users\\msgig\\Anaconda3\\lib\\site-packages\\sklearn\\linear_model\\logistic.py:947: ConvergenceWarning: lbfgs failed to converge. Increase the number of iterations.\n",
      "  \"of iterations.\", ConvergenceWarning)\n",
      "C:\\Users\\msgig\\Anaconda3\\lib\\site-packages\\sklearn\\linear_model\\logistic.py:947: ConvergenceWarning: lbfgs failed to converge. Increase the number of iterations.\n",
      "  \"of iterations.\", ConvergenceWarning)\n",
      "C:\\Users\\msgig\\Anaconda3\\lib\\site-packages\\sklearn\\linear_model\\logistic.py:947: ConvergenceWarning: lbfgs failed to converge. Increase the number of iterations.\n",
      "  \"of iterations.\", ConvergenceWarning)\n",
      "C:\\Users\\msgig\\Anaconda3\\lib\\site-packages\\sklearn\\linear_model\\logistic.py:947: ConvergenceWarning: lbfgs failed to converge. Increase the number of iterations.\n",
      "  \"of iterations.\", ConvergenceWarning)\n",
      "C:\\Users\\msgig\\Anaconda3\\lib\\site-packages\\sklearn\\linear_model\\logistic.py:947: ConvergenceWarning: lbfgs failed to converge. Increase the number of iterations.\n",
      "  \"of iterations.\", ConvergenceWarning)\n",
      "C:\\Users\\msgig\\Anaconda3\\lib\\site-packages\\sklearn\\linear_model\\logistic.py:947: ConvergenceWarning: lbfgs failed to converge. Increase the number of iterations.\n",
      "  \"of iterations.\", ConvergenceWarning)\n",
      "C:\\Users\\msgig\\Anaconda3\\lib\\site-packages\\sklearn\\linear_model\\logistic.py:947: ConvergenceWarning: lbfgs failed to converge. Increase the number of iterations.\n",
      "  \"of iterations.\", ConvergenceWarning)\n",
      "C:\\Users\\msgig\\Anaconda3\\lib\\site-packages\\sklearn\\linear_model\\logistic.py:947: ConvergenceWarning: lbfgs failed to converge. Increase the number of iterations.\n",
      "  \"of iterations.\", ConvergenceWarning)\n",
      "C:\\Users\\msgig\\Anaconda3\\lib\\site-packages\\sklearn\\linear_model\\logistic.py:947: ConvergenceWarning: lbfgs failed to converge. Increase the number of iterations.\n",
      "  \"of iterations.\", ConvergenceWarning)\n",
      "C:\\Users\\msgig\\Anaconda3\\lib\\site-packages\\sklearn\\linear_model\\logistic.py:947: ConvergenceWarning: lbfgs failed to converge. Increase the number of iterations.\n",
      "  \"of iterations.\", ConvergenceWarning)\n",
      "C:\\Users\\msgig\\Anaconda3\\lib\\site-packages\\sklearn\\linear_model\\logistic.py:947: ConvergenceWarning: lbfgs failed to converge. Increase the number of iterations.\n",
      "  \"of iterations.\", ConvergenceWarning)\n",
      "C:\\Users\\msgig\\Anaconda3\\lib\\site-packages\\sklearn\\linear_model\\logistic.py:947: ConvergenceWarning: lbfgs failed to converge. Increase the number of iterations.\n",
      "  \"of iterations.\", ConvergenceWarning)\n"
     ]
    },
    {
     "name": "stdout",
     "output_type": "stream",
     "text": [
      "Data1 selftext\n",
      "Model = Cvec\n",
      "GridSearch best params = \n",
      "{'cvec__max_features': 1500, 'cvec__min_df': 2, 'cvec__ngram_range': (1, 1), 'cvec__stop_words': None}\n",
      "GridSearch best score = 0.7266002844950213\n",
      "GS train score = 0.8209577999051684\n",
      "GS test score  = 0.7280227596017069\n",
      "\n",
      "Baseline= \n",
      "0    0.541394\n",
      "1    0.458606\n",
      "Name: subreddit, dtype: float64\n",
      "Model 1, data1 = Predicting Unethical vs Ethical Life Pro Tips, using vectorizers and logreg\n"
     ]
    }
   ],
   "source": [
    "# Loops designed to iterate thru various models to find best fit\n",
    "\n",
    "for j in my_data:\n",
    "\n",
    "    X = data1[j]\n",
    "    y = data1['subreddit']      \n",
    "    X_train, X_test, y_train, y_test = (train_test_split(X, y,random_state=42, stratify=y))\n",
    "\n",
    "    for i in range(0,len(my_pipenames)):\n",
    "\n",
    "        gs = GridSearchCV(my_pipes[i], param_grid=my_pipeparams[i], cv=3) \n",
    "        gs.fit(X_train, y_train)\n",
    "        gs_bestmodel = gs.best_estimator_\n",
    "    \n",
    "        print(f\"Data1 {j}\")\n",
    "        print(f\"Model = {my_pipenames[i]}\")\n",
    "        print(f\"GridSearch best params = \\n{gs.best_params_}\")\n",
    "        print(f\"GridSearch best score = {gs.best_score_}\")\n",
    "        print(f\"GS train score = {gs_bestmodel.score(X_train, y_train)}\")\n",
    "        print(f\"GS test score  = {gs_bestmodel.score(X_test, y_test)}\")\n",
    "        print()\n",
    " \n",
    "print(f\"Baseline= \\n{y_test.value_counts(normalize=True)}\")  \n",
    "print(f\"Model 1, data1 = Predicting Unethical vs Ethical Life Pro Tips, using vectorizers and logreg\")"
   ]
  },
  {
   "cell_type": "markdown",
   "metadata": {},
   "source": [
    "### Model 1.1 ,Confusion Matrix"
   ]
  },
  {
   "cell_type": "code",
   "execution_count": 25,
   "metadata": {},
   "outputs": [
    {
     "name": "stdout",
     "output_type": "stream",
     "text": [
      "Confusion Matrix:\n",
      "                      Predicted N (ethical)  Predicted P (Unethical)\n",
      "Actual N (ethical)                     1595                      308\n",
      "Actual P (Unethical)                    459                     1153\n",
      "\n",
      "Sensitivity = 0.7152605459057072\n",
      "Specificity = 0.838150289017341\n",
      "Accuracy = 0.7817923186344239\n"
     ]
    }
   ],
   "source": [
    "y_pred = gs_bestmodel.fit(X_train, y_train).predict(X_test) \n",
    "cm = confusion_matrix(y_test, y_pred)  # matrix of actual y and predicted y\n",
    "cm_df = pd.DataFrame(cm, columns=['Predicted N (ethical)', 'Predicted P (Unethical)'],index=['Actual N (ethical)', 'Actual P (Unethical)'])\n",
    "tn, fp, fn, tp = confusion_matrix(y_test, y_pred).ravel()\n",
    "print('Confusion Matrix:')\n",
    "print(cm_df)\n",
    "print()\n",
    "print(f\"Sensitivity = {tp / (tp + fn)}\")\n",
    "print(f\"Specificity = {tn/(tn+fp)}\")\n",
    "print(f\"Accuracy = {(tp+tn)/(tp+tn+fp+fn)}\")"
   ]
  },
  {
   "cell_type": "markdown",
   "metadata": {},
   "source": [
    "### Model 1.2 = data1, Vectorizer and Naive Bayes"
   ]
  },
  {
   "cell_type": "code",
   "execution_count": 26,
   "metadata": {},
   "outputs": [
    {
     "name": "stdout",
     "output_type": "stream",
     "text": [
      "\n",
      "NBmodel = Bernoulli\n",
      " train score = 0.7889995258416311\n",
      " test score  = 0.7647226173541963\n",
      "\n",
      "NBmodel = Multinomial\n",
      " train score = 0.8006638217164533\n",
      " test score  = 0.7752489331436699\n",
      "\n",
      "Baseline= \n",
      "0    0.541394\n",
      "1    0.458606\n",
      "Name: subreddit, dtype: float64\n",
      "Model 2 , data2, predicting unethical vs ethical LPT with Tvec/NB\n"
     ]
    }
   ],
   "source": [
    "my_NBmodels=[BernoulliNB(), MultinomialNB()]\n",
    "my_NBmodelnames=['Bernoulli','Multinomial']\n",
    "\n",
    "X = data1.title  # our best data\n",
    "y = data1.subreddit\n",
    "X_train, X_test, y_train, y_test = (train_test_split(X, y,random_state=42,stratify=y))\n",
    "\n",
    "#Taking our 'best' model from above\n",
    "tvec = TfidfVectorizer(max_features= 1500, ngram_range= (1, 1), stop_words=None, )\n",
    "\n",
    "X_train = tvec.fit_transform(X_train).toarray()\n",
    "X_test = tvec.transform(X_test).toarray()\n",
    "print()\n",
    "\n",
    "for i in range(0,len(my_NBmodelnames)):\n",
    "    nb = my_NBmodels[i]\n",
    "    y_pred = nb.fit(X_train, y_train).predict(X_test)   \n",
    "    \n",
    "    print(f\"NBmodel = {my_NBmodelnames[i]}\")\n",
    "    print(f\" train score = {nb.score(X_train, y_train)}\")\n",
    "    print(f\" test score  = {nb.score(X_test, y_test)}\")\n",
    "    print()\n",
    "    \n",
    "print(f\"Baseline= \\n{y_test.value_counts(normalize=True)}\")    \n",
    "print(f\"Model 2 , data2, predicting unethical vs ethical LPT with Tvec/NB\")"
   ]
  },
  {
   "cell_type": "markdown",
   "metadata": {},
   "source": [
    "### Model 1.2 Confusion Matrix"
   ]
  },
  {
   "cell_type": "code",
   "execution_count": 27,
   "metadata": {},
   "outputs": [
    {
     "name": "stdout",
     "output_type": "stream",
     "text": [
      "Confusion Matrix:\n",
      "                      Predicted N (ethical)  Predicted P (Unethical)\n",
      "Actual N (ethical)                     1579                      324\n",
      "Actual P (Unethical)                    466                     1146\n",
      "\n",
      "Sensitivity = 0.7109181141439206\n",
      "Specificity = 0.8297425118234367\n",
      "Accuracy = 0.7752489331436699\n"
     ]
    }
   ],
   "source": [
    "y_pred = nb.fit(X_train, y_train).predict(X_test) \n",
    "cm = confusion_matrix(y_test, y_pred)  # matrix of actual y and predicted y\n",
    "cm_df = pd.DataFrame(cm, columns=['Predicted N (ethical)', 'Predicted P (Unethical)'], \n",
    "                     index=['Actual N (ethical)', 'Actual P (Unethical)'])\n",
    "tn, fp, fn, tp = confusion_matrix(y_test, y_pred).ravel()\n",
    "print('Confusion Matrix:')\n",
    "print(cm_df)\n",
    "print()\n",
    "print(f\"Sensitivity = {tp / (tp + fn)}\")\n",
    "print(f\"Specificity = {tn/(tn+fp)}\")\n",
    "print(f\"Accuracy = {(tp+tn)/(tp+tn+fp+fn)}\")\n"
   ]
  },
  {
   "cell_type": "markdown",
   "metadata": {},
   "source": [
    ">## Model 1 \n",
    ">### GENERAL FINDINGS for all 3 datasets - \n",
    ">- **Title has more 'weight' than selftext.** In ALL 3 datasets the TITLE yielded the highest scores for accuracy as compared to selftext and title_selftext combo.  Indeed, selftext generated non-convergence warnings.  I suspect this is because the titles were generally very descriptive. \n",
    ">- **Tvec is more accurate than Cvec.**  In ALL 3 datasets, Tvec yeilded consistently slightly higher scores and when pushed for tuning Cvec often generated non-convergence warnings.\n",
    ">- **LogReg is more accurate than Naive Bayes.**  In ALL 3 datasets LogReg was slightly more accurate than NB.  In addition, in ALL 3 datasets, MultinomialNB is slightly more accurate than BinomialNB.  ALthough NB generated slightly less accurate models than LogReg, its overfit was slightly less, but its results were consistenly skewed to higher SPECIFICITY (not SENSITIVITY).\n"
   ]
  },
  {
   "cell_type": "markdown",
   "metadata": {},
   "source": [
    "\n",
    "## 3.2 Modelling Data 2 - Predicting Illegal vs Unethical Life Pro Tips\n",
    "###  Model 2.1 = data 2  ,  Vectorizers and LogReg (and SVC)"
   ]
  },
  {
   "cell_type": "code",
   "execution_count": 28,
   "metadata": {},
   "outputs": [],
   "source": [
    "# Vectorizer features\n",
    "my_max_features=[1100,1200]  # these features fine-tuned \n",
    "my_stop_words=[None]  #'english' stopwords removed, not significant\n",
    "my_ngram_range=[(1,1),(1,2)]\n",
    "my_min_df= [2,3] \n",
    "#my_max_df=[0.80, 0.90]  # this was not significant\n",
    "\n",
    "\n",
    "# SVC features  MORE ON SVC LATER\n",
    "my_C= [1,5,10, 20]\n",
    "my_kernel=['linear','rbf']\n",
    "my_gamma= ['auto','scale']\n",
    "\n",
    "\n",
    "# pipe and parameters for cvec\n",
    "#pipeC = Pipeline([\n",
    "    #('cvec', CountVectorizer()),\n",
    "    #('logreg', LogisticRegression(solver='lbfgs'))])\n",
    "\n",
    "#pipeC2 = Pipeline([\n",
    "    #('cvec', CountVectorizer()),\n",
    "    #('svc', SVC())]) \n",
    "    \n",
    "#pipeC_params = {\n",
    "    #'cvec__max_features': my_max_features,\n",
    "    #'cvec__min_df': my_min_df,\n",
    "    #'cvec__max_df': my_max_df,\n",
    "    #'cvec__stop_words': my_stop_words,\n",
    "    #'cvec__ngram_range': my_ngram_range,\n",
    "    #'svc__C': my_C,\n",
    "    #'svc__kernel': my_kernel,\n",
    "    #'svc__gamma': my_gamma\n",
    "    #}\n",
    "    \n",
    "\n",
    "# pipe and parameters for tvec\n",
    "pipeT = Pipeline([\n",
    "    ('tvec', TfidfVectorizer()),\n",
    "    ('logreg', LogisticRegression(solver='lbfgs'))])\n",
    "\n",
    "#pipeT2 = Pipeline([\n",
    "    #('tvec', TfidfVectorizer()),\n",
    "    #('svc', SVC())])\n",
    "\n",
    "\n",
    "pipeT_params = {\n",
    "    'tvec__max_features': my_max_features,\n",
    "    'tvec__min_df': my_min_df,\n",
    "    #'tvec__max_df': my_max_df,    \n",
    "    'tvec__stop_words': my_stop_words,\n",
    "    'tvec__ngram_range': my_ngram_range,\n",
    "    #'svc__C': my_C,\n",
    "    #'svc__kernel': my_kernel,\n",
    "    #'svc__gamma': my_gamma\n",
    "    }\n",
    " \n",
    "my_data=['title']  #selftext and title_selftext removed due to non-convergence\n",
    "my_pipes=[pipeT]  # PipeC removed due to lower score/higher overfit\n",
    "my_pipeparams=[pipeT_params]\n",
    "my_pipenames = ['TVectorizer']"
   ]
  },
  {
   "cell_type": "code",
   "execution_count": 29,
   "metadata": {},
   "outputs": [
    {
     "name": "stdout",
     "output_type": "stream",
     "text": [
      "Data2 title\n",
      "Model = TVectorizer\n",
      "GridSearch best params = \n",
      "{'tvec__max_features': 1200, 'tvec__min_df': 2, 'tvec__ngram_range': (1, 1), 'tvec__stop_words': None}\n",
      "GridSearch best score = 0.7645614379726943\n",
      "GS train score = 0.8099400844710736\n",
      "GS test score  = 0.7604596346493813\n",
      "\n",
      "Baseline= \n",
      "1    0.525044\n",
      "0    0.474956\n",
      "Name: subreddit, dtype: float64\n",
      "Model 2 , data2 = Predicting Illegal vs Unethical Life Pro Tips, using vectorizers and logreg\n"
     ]
    }
   ],
   "source": [
    "for j in my_data:\n",
    "\n",
    "    X = data2[j]\n",
    "    y = data2['subreddit']   \n",
    "    X_train, X_test, y_train, y_test = (train_test_split(X, y,random_state=42,stratify=y))\n",
    "\n",
    "    for i in range(0,len(my_pipenames)):\n",
    "\n",
    "        gs = GridSearchCV(my_pipes[i],param_grid=my_pipeparams[i],cv=3) \n",
    "        gs.fit(X_train, y_train)\n",
    "        gs_bestmodel = gs.best_estimator_\n",
    "    \n",
    "        print(f\"Data2 {j}\")\n",
    "        print(f\"Model = {my_pipenames[i]}\")\n",
    "        print(f\"GridSearch best params = \\n{gs.best_params_}\")  \n",
    "        print(f\"GridSearch best score = {gs.best_score_}\")\n",
    "        print(f\"GS train score = {gs_bestmodel.score(X_train, y_train)}\")\n",
    "        print(f\"GS test score  = {gs_bestmodel.score(X_test, y_test)}\")\n",
    "        print()\n",
    " \n",
    "print(f\"Baseline= \\n{y_test.value_counts(normalize=True)}\")  \n",
    "print(f\"Model 2 , data2 = Predicting Illegal vs Unethical Life Pro Tips, using vectorizers and logreg\")\n"
   ]
  },
  {
   "cell_type": "markdown",
   "metadata": {},
   "source": [
    "### Model 2.1, confusion matrix"
   ]
  },
  {
   "cell_type": "code",
   "execution_count": 30,
   "metadata": {},
   "outputs": [
    {
     "name": "stdout",
     "output_type": "stream",
     "text": [
      "Confusion Matrix:\n",
      "                      Predicted N (unethical)  Predicted P (Illegal)\n",
      "Actual N (unethical)                     1156                    456\n",
      "Actual P (Illegal)                        357                   1425\n",
      "\n",
      "Sensitivity = 0.7996632996632996\n",
      "Specificity = 0.71712158808933\n",
      "Accuracy = 0.7604596346493813\n"
     ]
    }
   ],
   "source": [
    "y_pred = gs_bestmodel.fit(X_train, y_train).predict(X_test) \n",
    "cm = confusion_matrix(y_test, y_pred)  # matrix of actual y and predicted y\n",
    "cm_df = pd.DataFrame(cm, columns=['Predicted N (unethical)', 'Predicted P (Illegal)'], \n",
    "                     index=['Actual N (unethical)', 'Actual P (Illegal)'])\n",
    "tn, fp, fn, tp = confusion_matrix(y_test, y_pred).ravel()\n",
    "print('Confusion Matrix:')\n",
    "print(cm_df)\n",
    "print()\n",
    "print(f\"Sensitivity = {tp / (tp + fn)}\")\n",
    "print(f\"Specificity = {tn/(tn+fp)}\")\n",
    "print(f\"Accuracy = {(tp+tn)/(tp+tn+fp+fn)}\")\n"
   ]
  },
  {
   "cell_type": "markdown",
   "metadata": {},
   "source": [
    "### Model 2.2 =  data2, vectorizer and Naive Bayes"
   ]
  },
  {
   "cell_type": "code",
   "execution_count": 31,
   "metadata": {},
   "outputs": [
    {
     "name": "stdout",
     "output_type": "stream",
     "text": [
      "\n",
      "NBmodel = Bernoulli\n",
      " train score = 0.7399076711521462\n",
      " test score  = 0.7292280494991161\n",
      "\n",
      "NBmodel = Multinomial\n",
      " train score = 0.779687653472154\n",
      " test score  = 0.7457277548615203\n",
      "\n",
      "Baseline= \n",
      "1    0.525044\n",
      "0    0.474956\n",
      "Name: subreddit, dtype: float64\n",
      "Model 2 = Ethical/ unethical with Tvec/NB\n"
     ]
    }
   ],
   "source": [
    "my_NBmodels=[BernoulliNB(), MultinomialNB()]\n",
    "my_NBmodelnames=['Bernoulli','Multinomial']\n",
    "\n",
    "X = data2.title  # our best data\n",
    "y = data2.subreddit\n",
    "X_train, X_test, y_train, y_test = (train_test_split(X, y,random_state=42,stratify=y))\n",
    "\n",
    "#Taking our 'best' model from above\n",
    "tvec = TfidfVectorizer(max_features= 1200, min_df= 2, ngram_range= (1, 2), stop_words=None, )\n",
    "\n",
    "X_train = tvec.fit_transform(X_train).toarray()\n",
    "X_test = tvec.transform(X_test).toarray()\n",
    "print()\n",
    "\n",
    "for i in range(0,len(my_NBmodelnames)):\n",
    "    nb = my_NBmodels[i]\n",
    "    y_pred = nb.fit(X_train, y_train).predict(X_test)   \n",
    "    \n",
    "    print(f\"NBmodel = {my_NBmodelnames[i]}\")\n",
    "    print(f\" train score = {nb.score(X_train, y_train)}\")\n",
    "    print(f\" test score  = {nb.score(X_test, y_test)}\")\n",
    "    print()\n",
    "    \n",
    "print(f\"Baseline= \\n{y_test.value_counts(normalize=True)}\")    \n",
    "print(f\"Model 2 = Ethical/ unethical with Tvec/NB\")"
   ]
  },
  {
   "cell_type": "markdown",
   "metadata": {},
   "source": [
    "### Model 2.2 Confusion Matrix"
   ]
  },
  {
   "cell_type": "code",
   "execution_count": 32,
   "metadata": {},
   "outputs": [
    {
     "name": "stdout",
     "output_type": "stream",
     "text": [
      "Confusion Matrix:\n",
      "                      Predicted N (unethical)  Predicted P (Illegal)\n",
      "Actual N (unethical)                     1115                    497\n",
      "Actual P (Illegal)                        366                   1416\n",
      "\n",
      "Sensitivity = 0.7946127946127947\n",
      "Specificity = 0.6916873449131513\n",
      "Accuracy = 0.7457277548615203\n"
     ]
    }
   ],
   "source": [
    "y_pred = nb.fit(X_train, y_train).predict(X_test)\n",
    "cm = confusion_matrix(y_test, y_pred)  # matrix of actual y and predicted y\n",
    "cm_df = pd.DataFrame(cm, columns=['Predicted N (unethical)', 'Predicted P (Illegal)'], \n",
    "                     index=['Actual N (unethical)', 'Actual P (Illegal)'])\n",
    "tn, fp, fn, tp = confusion_matrix(y_test, y_pred).ravel()\n",
    "print('Confusion Matrix:')\n",
    "print(cm_df)\n",
    "print()\n",
    "print(f\"Sensitivity = {tp / (tp + fn)}\")\n",
    "print(f\"Specificity = {tn/(tn+fp)}\")\n",
    "print(f\"Accuracy = {(tp+tn)/(tp+tn+fp+fn)}\")\n"
   ]
  },
  {
   "cell_type": "markdown",
   "metadata": {},
   "source": [
    "### Model 2.3 = data 2 and Vectorizer and SVC¶"
   ]
  },
  {
   "cell_type": "markdown",
   "metadata": {},
   "source": [
    "### switched to markdown to avoid excessivly loooooong runs\n",
    "### Click to see code\n",
    "\n",
    "#pipe and parameters for tvec\n",
    "pipeTsvc = Pipeline([\n",
    "    ('tvec', TfidfVectorizer()),\n",
    "    ('svc', SVC())])\n",
    "\n",
    "\n",
    "pipeT_params = {\n",
    "    'tvec__max_features': my_max_features,\n",
    "    'tvec__min_df': my_min_df,\n",
    "    #'tvec__max_df': my_max_df,    \n",
    "    'tvec__stop_words': my_stop_words,\n",
    "    'tvec__ngram_range': my_ngram_range,\n",
    "    'svc__C': my_C,\n",
    "    'svc__kernel': my_kernel,\n",
    "    'svc__gamma': my_gamma\n",
    "    }\n",
    "\n",
    "#Vectorizer features\n",
    "my_max_features=[1200]  # these features fine-tuned \n",
    "my_stop_words=[None]  #'english' stopwords removed, not significant\n",
    "my_ngram_range=[(1,2)]\n",
    "my_min_df= [2] \n",
    "#my_max_df=[0.80, 0.90]  # this was not significant\n",
    "\n",
    "\n",
    "#SVC features\n",
    "my_C= [1]\n",
    "my_kernel=['rbf']\n",
    "my_gamma= ['scale']\n",
    "\n",
    "    \n",
    "my_data=['title']  #selftext and title_selftext removed due to non-convergence\n",
    "my_pipes=[pipeTsvc]  # PipeC removed due to lower score/higher overfit\n",
    "my_pipeparams=[pipeT_params]\n",
    "my_pipenames = ['TVec_SVC']"
   ]
  },
  {
   "cell_type": "markdown",
   "metadata": {},
   "source": [
    "### Click to see code\n",
    "\n",
    "for j in my_data:\n",
    "\n",
    "    X = data2[j]\n",
    "    y = data2['subreddit']   \n",
    "    \n",
    "    X_train, X_test, y_train, y_test = (train_test_split(X, y,random_state=42,stratify=y))\n",
    "\n",
    "    for i in range(0,len(my_pipenames)):\n",
    "\n",
    "        gs = GridSearchCV(my_pipes[i], \n",
    "                  param_grid=my_pipeparams[i], \n",
    "                  cv=3) \n",
    "        gs.fit(X_train, y_train)\n",
    "        gs_bestmodel = gs.best_estimator_\n",
    "    \n",
    "        print(f\"Data2 {j}\")\n",
    "        print(f\"Model = {my_pipenames[i]}\")\n",
    "        print(f\"GridSearch best params = \\n{gs.best_params_}\") \n",
    "        print(f\"GridSearch best score = {gs.best_score_}\")\n",
    "        print(f\"GS train score = {gs_bestmodel.score(X_train, y_train)}\")\n",
    "        print(f\"GS test score  = {gs_bestmodel.score(X_test, y_test)}\")\n",
    "        print()\n",
    " \n",
    "print(f\"Baseline= \\n{y_test.value_counts(normalize=True)}\")  \n",
    "print(f\"Model 2 , data2 = Predicting Illegal vs Unethical Life Pro Tips, using vectorizers and logreg\")"
   ]
  },
  {
   "cell_type": "markdown",
   "metadata": {},
   "source": [
    "### Results of 'best' SVC model\n",
    "\n",
    "**Data2 title**\n",
    "**Model = TVec_SVC**\n",
    "- GridSearch best params = \n",
    "- {'svc__C': 1, 'svc__gamma': 'scale', 'svc__kernel': 'rbf', 'tvec__max_features': 1200, 'tvec__min_df': 3, 'tvec__ngram_range': (1, 1), 'tvec__stop_words': None}\n",
    "- GridSearch best score = 0.7676063255082998\n",
    "- GS train score = 0.9207347018956881\n",
    "- GS test score  = 0.7622274602239246\n",
    "\n",
    "**Baseline=** \n",
    "- 1    0.525044\n",
    "- 0    0.474956\n",
    "- Name: subreddit, dtype: float64\n",
    "- Model 2 , data2 = Predicting Illegal vs Unethical Life Pro Tips, using vectorizers and logreg"
   ]
  },
  {
   "cell_type": "markdown",
   "metadata": {},
   "source": [
    ">## Model 2\n",
    ">### GENERAL FINDINGS for all 3 datasets\n",
    ">- ALthough only shown in Model2/Data2, the following finding are for ALL 3 datasets.\n",
    ">- **LogReg accuracy comparable to SVC Model but at a FRACTION of the time and CPU.**  Although SVC yielded similar Accuracy to LegReg, its overfit on the Train data was consistently much higher.\n",
    ">- Code above is in markdown to prevent costly execution.\n"
   ]
  },
  {
   "cell_type": "markdown",
   "metadata": {},
   "source": [
    "\n",
    "## 3.3 Modeling Data 3 - Predicting Illegal vs Ethical Life Pro Tips\n",
    "### Model 3.1 = data 3, Vectorizers and LogReg "
   ]
  },
  {
   "cell_type": "code",
   "execution_count": 33,
   "metadata": {},
   "outputs": [],
   "source": [
    "#PIPES\n",
    "# Vectorizer features\n",
    "my_max_features=[1800,2000]  # these features fine-tuned \n",
    "my_stop_words=[None]  #'english' stopwords removed, not significant\n",
    "my_ngram_range=[(1,1),(1,2)]\n",
    "my_min_df= [2,3,4] \n",
    "#my_max_df=[0.80, 0.90]  # this was not significant  \n",
    "\n",
    "#pipe and parameters for cvec\n",
    "#pipeC = Pipeline([\n",
    "    #('cvec', CountVectorizer()),\n",
    "    #('logreg', LogisticRegression(solver='lbfgs'))])\n",
    "\n",
    "#pipeC_params = {\n",
    "    #'cvec__max_features': my_max_features,\n",
    "    #'cvec__min_df': my_min_df,\n",
    "    #'cvec__max_df': my_max_df,\n",
    "    #'cvec__stop_words': my_stop_words,\n",
    "    #'cvec__ngram_range': my_ngram_range\n",
    "    #}\n",
    "    \n",
    "\n",
    "#pipe and parameters for tvec\n",
    "pipeT = Pipeline([\n",
    "    ('tvec', TfidfVectorizer()),\n",
    "    ('logreg', LogisticRegression(solver='lbfgs'))])\n",
    "\n",
    "pipeT_params = {\n",
    "    'tvec__max_features': my_max_features,\n",
    "    'tvec__min_df': my_min_df,\n",
    "    #'tvec__max_df': my_max_df,    \n",
    "    'tvec__stop_words': my_stop_words,\n",
    "    'tvec__ngram_range': my_ngram_range\n",
    "    }\n",
    "   \n",
    "my_data=['title']  #selftext and title_selftext removed due to non-convergence\n",
    "my_pipes=[pipeT]  # PipeC removed due to lower score/higher overfit\n",
    "my_pipeparams=[pipeT_params]\n",
    "my_pipenames = ['TVectorizer']"
   ]
  },
  {
   "cell_type": "code",
   "execution_count": 34,
   "metadata": {
    "scrolled": false
   },
   "outputs": [
    {
     "name": "stdout",
     "output_type": "stream",
     "text": [
      "Data3 title\n",
      "Model = TVectorizer\n",
      "GridSearch best params = \n",
      "{'tvec__max_features': 2000, 'tvec__min_df': 2, 'tvec__ngram_range': (1, 1), 'tvec__stop_words': None}\n",
      "GridSearch best score = 0.8903663500678426\n",
      "GS train score = 0.9210312075983718\n",
      "GS test score  = 0.8982637004883343\n",
      "\n",
      "Baseline= \n",
      "0    0.516549\n",
      "1    0.483451\n",
      "Name: subreddit, dtype: float64\n",
      "Model 3 , data3 = Predicting Illegal vs Ethical LPTs using vectorizers and logreg\n"
     ]
    }
   ],
   "source": [
    "for j in my_data:\n",
    "\n",
    "    X = data3[j]\n",
    "    y = data3['subreddit']\n",
    "    X_train, X_test, y_train, y_test = (train_test_split(X, y,random_state=42,stratify=y))\n",
    "\n",
    "    for i in range(0,len(my_pipenames)):\n",
    "\n",
    "        gs = GridSearchCV(my_pipes[i], param_grid=my_pipeparams[i], cv=3)  \n",
    "        gs.fit(X_train, y_train)\n",
    "        gs_bestmodel = gs.best_estimator_\n",
    "    \n",
    "        print(f\"Data3 {j}\")\n",
    "        print(f\"Model = {my_pipenames[i]}\")\n",
    "        print(f\"GridSearch best params = \\n{gs.best_params_}\")\n",
    "        print(f\"GridSearch best score = {gs.best_score_}\")\n",
    "        print(f\"GS train score = {gs_bestmodel.score(X_train, y_train)}\")\n",
    "        print(f\"GS test score  = {gs_bestmodel.score(X_test, y_test)}\")\n",
    "        print()\n",
    " \n",
    "print(f\"Baseline= \\n{y_test.value_counts(normalize=True)}\")  \n",
    "print(f\"Model 3 , data3 = Predicting Illegal vs Ethical LPTs using vectorizers and logreg\")"
   ]
  },
  {
   "cell_type": "markdown",
   "metadata": {},
   "source": [
    "### Model 3.1 , Confusion Matrix"
   ]
  },
  {
   "cell_type": "code",
   "execution_count": 35,
   "metadata": {},
   "outputs": [
    {
     "name": "stdout",
     "output_type": "stream",
     "text": [
      "Confusion Matrix:\n",
      "                    Predicted N (ethical)  Predicted P (Illegal)\n",
      "Actual N (ethical)                   1722                    182\n",
      "Actual P (Illegal)                    193                   1589\n",
      "\n",
      "Sensitivity = 0.8916947250280584\n",
      "Specificity = 0.9044117647058824\n",
      "Accuracy = 0.8982637004883343\n"
     ]
    }
   ],
   "source": [
    "y_pred = gs_bestmodel.fit(X_train, y_train).predict(X_test)\n",
    "cm = confusion_matrix(y_test, y_pred)  # matrix of actual y and predicted y\n",
    "cm_df = pd.DataFrame(cm, columns=['Predicted N (ethical)', 'Predicted P (Illegal)'], \n",
    "                     index=['Actual N (ethical)', 'Actual P (Illegal)'])\n",
    "\n",
    "tn, fp, fn, tp = confusion_matrix(y_test, y_pred).ravel()\n",
    "print('Confusion Matrix:')\n",
    "print(cm_df)\n",
    "print()\n",
    "print(f\"Sensitivity = {tp / (tp + fn)}\")\n",
    "print(f\"Specificity = {tn/(tn+fp)}\")\n",
    "print(f\"Accuracy = {(tp+tn)/(tp+tn+fp+fn)}\")"
   ]
  },
  {
   "cell_type": "markdown",
   "metadata": {},
   "source": [
    "### Create ROC curve"
   ]
  },
  {
   "cell_type": "code",
   "execution_count": 36,
   "metadata": {},
   "outputs": [
    {
     "data": {
      "text/html": [
       "<div>\n",
       "<style scoped>\n",
       "    .dataframe tbody tr th:only-of-type {\n",
       "        vertical-align: middle;\n",
       "    }\n",
       "\n",
       "    .dataframe tbody tr th {\n",
       "        vertical-align: top;\n",
       "    }\n",
       "\n",
       "    .dataframe thead th {\n",
       "        text-align: right;\n",
       "    }\n",
       "</style>\n",
       "<table border=\"1\" class=\"dataframe\">\n",
       "  <thead>\n",
       "    <tr style=\"text-align: right;\">\n",
       "      <th></th>\n",
       "      <th>true_values</th>\n",
       "      <th>pred_probs</th>\n",
       "    </tr>\n",
       "  </thead>\n",
       "  <tbody>\n",
       "    <tr>\n",
       "      <td>3373</td>\n",
       "      <td>0</td>\n",
       "      <td>0.070659</td>\n",
       "    </tr>\n",
       "    <tr>\n",
       "      <td>4569</td>\n",
       "      <td>0</td>\n",
       "      <td>0.172704</td>\n",
       "    </tr>\n",
       "    <tr>\n",
       "      <td>1975</td>\n",
       "      <td>0</td>\n",
       "      <td>0.023133</td>\n",
       "    </tr>\n",
       "    <tr>\n",
       "      <td>10723</td>\n",
       "      <td>1</td>\n",
       "      <td>0.049737</td>\n",
       "    </tr>\n",
       "    <tr>\n",
       "      <td>10515</td>\n",
       "      <td>1</td>\n",
       "      <td>0.781980</td>\n",
       "    </tr>\n",
       "  </tbody>\n",
       "</table>\n",
       "</div>"
      ],
      "text/plain": [
       "       true_values  pred_probs\n",
       "3373             0    0.070659\n",
       "4569             0    0.172704\n",
       "1975             0    0.023133\n",
       "10723            1    0.049737\n",
       "10515            1    0.781980"
      ]
     },
     "execution_count": 36,
     "metadata": {},
     "output_type": "execute_result"
    }
   ],
   "source": [
    "pred_proba = [i[1] for i in gs_bestmodel.predict_proba(X_test)]\n",
    "\n",
    "pred_df = pd.DataFrame({'true_values': y_test,\n",
    "                        'pred_probs':pred_proba})\n",
    "pred_df.head()"
   ]
  },
  {
   "cell_type": "code",
   "execution_count": 37,
   "metadata": {},
   "outputs": [
    {
     "data": {
      "text/plain": [
       "0.9544057521998698"
      ]
     },
     "execution_count": 37,
     "metadata": {},
     "output_type": "execute_result"
    }
   ],
   "source": [
    "#let's get our ROC score\n",
    "roc_auc_score(pred_df['true_values'], pred_df['pred_probs'])"
   ]
  },
  {
   "cell_type": "code",
   "execution_count": 38,
   "metadata": {},
   "outputs": [
    {
     "data": {
      "image/png": "[encoded data removed]",
      "text/plain": [
       "<Figure size 720x504 with 1 Axes>"
      ]
     },
     "metadata": {
      "needs_background": "light"
     },
     "output_type": "display_data"
    }
   ],
   "source": [
    "# Create figure for ROC to get an idea of sensitivity and specificity tradeoff\n",
    "# this code is was provided in class\n",
    "\n",
    "plt.figure(figsize = (10,7))\n",
    "\n",
    "# Create threshold values. (Dashed red line in image.)\n",
    "thresholds = np.linspace(0, 1, 200)\n",
    "\n",
    "# Define function to calculate sensitivity. (True positive rate.)\n",
    "def TPR(df, true_col, pred_prob_col, threshold):\n",
    "    true_positive = df[(df[true_col] == 1) & (df[pred_prob_col] >= threshold)].shape[0]\n",
    "    false_negative = df[(df[true_col] == 1) & (df[pred_prob_col] < threshold)].shape[0]\n",
    "    return true_positive / (true_positive + false_negative)\n",
    "    \n",
    "\n",
    "# Define function to calculate 1 - specificity. (False positive rate.)\n",
    "def FPR(df, true_col, pred_prob_col, threshold):\n",
    "    true_negative = df[(df[true_col] == 0) & (df[pred_prob_col] <= threshold)].shape[0]\n",
    "    false_positive = df[(df[true_col] == 0) & (df[pred_prob_col] > threshold)].shape[0]\n",
    "    return 1 - (true_negative / (true_negative + false_positive))\n",
    "    \n",
    "# Calculate sensitivity & 1-specificity for each threshold between 0 and 1.\n",
    "tpr_values = [TPR(pred_df, 'true_values', 'pred_probs', prob) for prob in thresholds]\n",
    "fpr_values = [FPR(pred_df, 'true_values', 'pred_probs', prob) for prob in thresholds]\n",
    "\n",
    "# Plot ROC curve.\n",
    "plt.plot(fpr_values, # False Positive Rate on X-axis\n",
    "         tpr_values, # True Positive Rate on Y-axis\n",
    "         label='ROC Curve')\n",
    "\n",
    "# Plot baseline. (Perfect overlap between the two populations.)\n",
    "plt.plot(np.linspace(0, 1, 200),\n",
    "         np.linspace(0, 1, 200),\n",
    "         label='baseline',\n",
    "         linestyle='--')\n",
    "\n",
    "# Label axes.\n",
    "plt.title(f'ROC Curve with AUC = {round(roc_auc_score(pred_df[\"true_values\"], pred_df[\"pred_probs\"]),3)}', fontsize=22)\n",
    "plt.ylabel('Sensitivity', fontsize=18)\n",
    "plt.xlabel('1 - Specificity', fontsize=18)\n",
    "\n",
    "# Create legend.\n",
    "plt.legend(fontsize=16);\n",
    "          \n",
    "# curve looks good,a fair bit of separate for our two classes"
   ]
  },
  {
   "cell_type": "markdown",
   "metadata": {},
   "source": [
    "### Model 3.2 = data3,  Vectorizer and NB"
   ]
  },
  {
   "cell_type": "code",
   "execution_count": 39,
   "metadata": {},
   "outputs": [
    {
     "name": "stdout",
     "output_type": "stream",
     "text": [
      "\n",
      "NBmodel = Bernoulli\n",
      " train score = 0.860153776571687\n",
      " test score  = 0.8480737927292458\n",
      "\n",
      "NBmodel = Multinomial\n",
      " train score = 0.9075531433740389\n",
      " test score  = 0.887683125339121\n",
      "\n",
      "Baseline= \n",
      "0    0.516549\n",
      "1    0.483451\n",
      "Name: subreddit, dtype: float64\n",
      "Model 2 = Ethical/ unethical with Tvec/NB\n"
     ]
    }
   ],
   "source": [
    "my_NBmodels=[BernoulliNB(), MultinomialNB()]\n",
    "my_NBmodelnames=['Bernoulli','Multinomial']\n",
    "\n",
    "X = data3.title  # our best data\n",
    "y = data3.subreddit\n",
    "X_train, X_test, y_train, y_test = (train_test_split(X, y,random_state=42,stratify=y))\n",
    "\n",
    "#Taking our 'best' model from above\n",
    "tvec = TfidfVectorizer(max_features= 2000, ngram_range= (1, 1), stop_words=None, )\n",
    "\n",
    "X_train = tvec.fit_transform(X_train).toarray()\n",
    "X_test = tvec.transform(X_test).toarray()\n",
    "print()\n",
    "\n",
    "for i in range(0,len(my_NBmodelnames)):\n",
    "    nb = my_NBmodels[i]\n",
    "    y_pred = nb.fit(X_train, y_train).predict(X_test)   \n",
    "    \n",
    "    print(f\"NBmodel = {my_NBmodelnames[i]}\")\n",
    "    print(f\" train score = {nb.score(X_train, y_train)}\")\n",
    "    print(f\" test score  = {nb.score(X_test, y_test)}\")\n",
    "    print()\n",
    "    \n",
    "print(f\"Baseline= \\n{y_test.value_counts(normalize=True)}\")    \n",
    "print(f\"Model 2 = Ethical/ unethical with Tvec/NB\")"
   ]
  },
  {
   "cell_type": "markdown",
   "metadata": {},
   "source": [
    "### Model 3.2 Confusion Matrix"
   ]
  },
  {
   "cell_type": "code",
   "execution_count": 40,
   "metadata": {},
   "outputs": [
    {
     "name": "stdout",
     "output_type": "stream",
     "text": [
      "Confusion Matrix:\n",
      "                    Predicted N (ethical)  Predicted P (Illegal)\n",
      "Actual N (ethical)                   1743                    161\n",
      "Actual P (Illegal)                    253                   1529\n",
      "\n",
      "Sensitivity = 0.8580246913580247\n",
      "Specificity = 0.9154411764705882\n",
      "Accuracy = 0.887683125339121\n"
     ]
    }
   ],
   "source": [
    "y_pred = nb.fit(X_train, y_train).predict(X_test)\n",
    "cm = confusion_matrix(y_test, y_pred)  # matrix of actual y and predicted y\n",
    "cm_df = pd.DataFrame(cm, columns=['Predicted N (ethical)', 'Predicted P (Illegal)'], \n",
    "                     index=['Actual N (ethical)', 'Actual P (Illegal)'])\n",
    "\n",
    "tn, fp, fn, tp = confusion_matrix(y_test, y_pred).ravel()\n",
    "print('Confusion Matrix:')\n",
    "print(cm_df)\n",
    "print()\n",
    "print(f\"Sensitivity = {tp / (tp + fn)}\")\n",
    "print(f\"Specificity = {tn/(tn+fp)}\")\n",
    "print(f\"Accuracy = {(tp+tn)/(tp+tn+fp+fn)}\")"
   ]
  },
  {
   "cell_type": "markdown",
   "metadata": {},
   "source": [
    "### Model 3.3 = data3,  Vectorizer and Decision Tree"
   ]
  },
  {
   "cell_type": "code",
   "execution_count": 41,
   "metadata": {},
   "outputs": [],
   "source": [
    "from sklearn.tree import DecisionTreeClassifier"
   ]
  },
  {
   "cell_type": "code",
   "execution_count": 42,
   "metadata": {},
   "outputs": [],
   "source": [
    "#PIPES\n",
    "\n",
    "#pipe and parameters for tvec\n",
    "pipeT = Pipeline([\n",
    "    ('tvec', TfidfVectorizer( max_features=600,stop_words=None )),\n",
    "    ('dt', DecisionTreeClassifier(random_state = 42))\n",
    "    ])\n",
    "\n",
    "pipeT_params = {\n",
    "            'dt__max_depth': [60,70],\n",
    "            'dt__min_samples_split': [60,70],\n",
    "            'dt__min_samples_leaf': [3, 5]\n",
    "            }\n",
    "    \n",
    "my_data=['title']  #selftext and title_selftext removed due to non-convergence\n",
    "my_pipes=[pipeT]  # PipeC removed due to lower score/higher overfit\n",
    "my_pipeparams=[pipeT_params]\n",
    "my_pipenames = ['TVec_Dtree']"
   ]
  },
  {
   "cell_type": "code",
   "execution_count": 43,
   "metadata": {},
   "outputs": [
    {
     "name": "stdout",
     "output_type": "stream",
     "text": [
      "Data3 title\n",
      "Model = TVec_Dtree\n",
      "GridSearch best params = \n",
      "{'dt__max_depth': 60, 'dt__min_samples_leaf': 5, 'dt__min_samples_split': 60}\n",
      "GridSearch best score = 0.8255088195386703\n",
      "GS train score = 0.8850293984622343\n",
      "GS test score  = 0.8260987520347259\n",
      "\n",
      "Baseline= \n",
      "0    0.516549\n",
      "1    0.483451\n",
      "Name: subreddit, dtype: float64\n",
      "Model 3 , data3 = Predicting Illegal vs Ethical LPTs using vectorizers and logreg\n"
     ]
    }
   ],
   "source": [
    "for j in my_data:\n",
    "\n",
    "    X = data3[j]\n",
    "    y = data3['subreddit']\n",
    "\n",
    "    X_train, X_test, y_train, y_test = (train_test_split(X, y, \n",
    "                                random_state=42, \n",
    "                                stratify=y))\n",
    "\n",
    "    for i in range(0,len(my_pipenames)):\n",
    "\n",
    "        gs = GridSearchCV(my_pipes[i], param_grid=my_pipeparams[i], cv=3 )  \n",
    "        gs.fit(X_train, y_train)\n",
    "        gs_bestmodel = gs.best_estimator_\n",
    "    \n",
    "        print(f\"Data3 {j}\")\n",
    "        print(f\"Model = {my_pipenames[i]}\")\n",
    "        print(f\"GridSearch best params = \\n{gs.best_params_}\")\n",
    "        print(f\"GridSearch best score = {gs.best_score_}\")\n",
    "        print(f\"GS train score = {gs_bestmodel.score(X_train, y_train)}\")\n",
    "        print(f\"GS test score  = {gs_bestmodel.score(X_test, y_test)}\")\n",
    "        print()\n",
    " \n",
    "print(f\"Baseline= \\n{y_test.value_counts(normalize=True)}\")  \n",
    "print(f\"Model 3 , data3 = Predicting Illegal vs Ethical LPTs using vectorizers and logreg\")"
   ]
  },
  {
   "cell_type": "code",
   "execution_count": 44,
   "metadata": {},
   "outputs": [
    {
     "name": "stdout",
     "output_type": "stream",
     "text": [
      "Confusion Matrix:\n",
      "                    Predicted N (ethical)  Predicted P (Illegal)\n",
      "Actual N (ethical)                   1588                    316\n",
      "Actual P (Illegal)                    325                   1457\n",
      "\n",
      "Sensitivity = 0.8176206509539843\n",
      "Specificity = 0.8340336134453782\n",
      "Accuracy = 0.8260987520347259\n"
     ]
    }
   ],
   "source": [
    "y_pred = gs_bestmodel.fit(X_train, y_train).predict(X_test)\n",
    "cm = confusion_matrix(y_test, y_pred)  # matrix of actual y and predicted y\n",
    "cm_df = pd.DataFrame(cm, columns=['Predicted N (ethical)', 'Predicted P (Illegal)'], \n",
    "                     index=['Actual N (ethical)', 'Actual P (Illegal)'])\n",
    "\n",
    "tn, fp, fn, tp = confusion_matrix(y_test, y_pred).ravel()\n",
    "print('Confusion Matrix:')\n",
    "print(cm_df)\n",
    "print()\n",
    "print(f\"Sensitivity = {tp / (tp + fn)}\")\n",
    "print(f\"Specificity = {tn/(tn+fp)}\")\n",
    "print(f\"Accuracy = {(tp+tn)/(tp+tn+fp+fn)}\")"
   ]
  },
  {
   "cell_type": "markdown",
   "metadata": {},
   "source": [
    "#### If I wanted to create output for decsion tree, I'd have to vectorize the x data and save to array prior to running this function .. maybe later...\n",
    "\n",
    "\n",
    "pd.DataFrame(resulting_sparse_matrix.toarray(), columns = tfidf_instance.get_feature_names())\n",
    "\n",
    "\n",
    "from sklearn.tree import export_graphviz\n",
    "export_graphviz(dt,\n",
    "               out_file=\"./test.dot\",\n",
    "               feature_names=X_train.columns,\n",
    "               class_names=['not survived','survived'],\n",
    "               rounded=True,\n",
    "               filled=True)"
   ]
  },
  {
   "cell_type": "markdown",
   "metadata": {},
   "source": [
    "### Are there key words influencing accuracy"
   ]
  },
  {
   "cell_type": "code",
   "execution_count": 45,
   "metadata": {},
   "outputs": [
    {
     "name": "stdout",
     "output_type": "stream",
     "text": [
      "Stopword ethical is found 7 times in Data3 title\n",
      "Stopword unethical is found 3 times in Data3 title\n",
      "Stopword legal is found 153 times in Data3 title\n",
      "Stopword illegal is found 86 times in Data3 title\n",
      "Stopword evil is found 5 times in Data3 title\n",
      "Stopword bad is found 107 times in Data3 title\n"
     ]
    }
   ],
   "source": [
    "# I suspect some specific words may be triggering the high rate of prediction\n",
    "my_stopwords=['ethical','unethical','legal','illegal','evil','bad', ]\n",
    "my_data = ['title']\n",
    "\n",
    "for j in my_stopwords:\n",
    "    for i in my_data:\n",
    "        print(f\"Stopword {j} is found {data3[i].str.count(j).sum() } times in Data3 {i}\")\n",
    "        \n",
    "# Wow, out of 14k of posts, am surprise there were so few of these"
   ]
  },
  {
   "cell_type": "code",
   "execution_count": 46,
   "metadata": {},
   "outputs": [],
   "source": [
    "# let's use cvec to get a lists of words and value counts!\n",
    "X = data3.title_selftext\n",
    "y = data3.subreddit\n",
    "X_train, X_test, y_train, y_test = (train_test_split(X, y,random_state=42,stratify=y))\n",
    "\n",
    "cv = CountVectorizer(stop_words='english')   \n",
    "cv_fit=cv.fit_transform(X_train,y_train)    \n",
    "word_list = cv.get_feature_names()\n",
    "count_list = cv_fit.toarray().sum(axis=0).tolist()    "
   ]
  },
  {
   "cell_type": "code",
   "execution_count": 47,
   "metadata": {},
   "outputs": [
    {
     "data": {
      "text/html": [
       "<div>\n",
       "<style scoped>\n",
       "    .dataframe tbody tr th:only-of-type {\n",
       "        vertical-align: middle;\n",
       "    }\n",
       "\n",
       "    .dataframe tbody tr th {\n",
       "        vertical-align: top;\n",
       "    }\n",
       "\n",
       "    .dataframe thead th {\n",
       "        text-align: right;\n",
       "    }\n",
       "</style>\n",
       "<table border=\"1\" class=\"dataframe\">\n",
       "  <thead>\n",
       "    <tr style=\"text-align: right;\">\n",
       "      <th></th>\n",
       "      <th>word</th>\n",
       "      <th>count</th>\n",
       "    </tr>\n",
       "  </thead>\n",
       "  <tbody>\n",
       "    <tr>\n",
       "      <td>30295</td>\n",
       "      <td>𝙩𝙧𝙮𝙞𝙣𝙜</td>\n",
       "      <td>1</td>\n",
       "    </tr>\n",
       "    <tr>\n",
       "      <td>14137</td>\n",
       "      <td>initiated</td>\n",
       "      <td>1</td>\n",
       "    </tr>\n",
       "    <tr>\n",
       "      <td>14138</td>\n",
       "      <td>initiates</td>\n",
       "      <td>1</td>\n",
       "    </tr>\n",
       "    <tr>\n",
       "      <td>14139</td>\n",
       "      <td>initiation</td>\n",
       "      <td>1</td>\n",
       "    </tr>\n",
       "    <tr>\n",
       "      <td>14142</td>\n",
       "      <td>injected</td>\n",
       "      <td>1</td>\n",
       "    </tr>\n",
       "    <tr>\n",
       "      <td>...</td>\n",
       "      <td>...</td>\n",
       "      <td>...</td>\n",
       "    </tr>\n",
       "    <tr>\n",
       "      <td>16451</td>\n",
       "      <td>make</td>\n",
       "      <td>2660</td>\n",
       "    </tr>\n",
       "    <tr>\n",
       "      <td>29179</td>\n",
       "      <td>want</td>\n",
       "      <td>2667</td>\n",
       "    </tr>\n",
       "    <tr>\n",
       "      <td>15861</td>\n",
       "      <td>like</td>\n",
       "      <td>3135</td>\n",
       "    </tr>\n",
       "    <tr>\n",
       "      <td>8808</td>\n",
       "      <td>don</td>\n",
       "      <td>3613</td>\n",
       "    </tr>\n",
       "    <tr>\n",
       "      <td>15023</td>\n",
       "      <td>just</td>\n",
       "      <td>4174</td>\n",
       "    </tr>\n",
       "  </tbody>\n",
       "</table>\n",
       "<p>30296 rows × 2 columns</p>\n",
       "</div>"
      ],
      "text/plain": [
       "             word  count\n",
       "30295      𝙩𝙧𝙮𝙞𝙣𝙜      1\n",
       "14137   initiated      1\n",
       "14138   initiates      1\n",
       "14139  initiation      1\n",
       "14142    injected      1\n",
       "...           ...    ...\n",
       "16451        make   2660\n",
       "29179        want   2667\n",
       "15861        like   3135\n",
       "8808          don   3613\n",
       "15023        just   4174\n",
       "\n",
       "[30296 rows x 2 columns]"
      ]
     },
     "execution_count": 47,
     "metadata": {},
     "output_type": "execute_result"
    }
   ],
   "source": [
    "# putting words and counts together \n",
    "my_wordcount = pd.DataFrame(list(zip(word_list, count_list)),\n",
    "              columns=['word','count'])\n",
    "(my_wordcount.sort_values(by=['count']))"
   ]
  },
  {
   "cell_type": "code",
   "execution_count": 48,
   "metadata": {},
   "outputs": [
    {
     "data": {
      "text/plain": [
       "['10',\n",
       " '100',\n",
       " '15',\n",
       " '20',\n",
       " '2019',\n",
       " '30',\n",
       " '50',\n",
       " 'able',\n",
       " 'access',\n",
       " 'account',\n",
       " 'accounts',\n",
       " 'actually',\n",
       " 'add',\n",
       " 'address',\n",
       " 'advice',\n",
       " 'ago',\n",
       " 'amazon',\n",
       " 'amp',\n",
       " 'app',\n",
       " 'apple',\n",
       " 'apps',\n",
       " 'area',\n",
       " 'aren',\n",
       " 'ask',\n",
       " 'asked',\n",
       " 'asking',\n",
       " 'avoid',\n",
       " 'away',\n",
       " 'bad',\n",
       " 'bag',\n",
       " 'bank',\n",
       " 'basically',\n",
       " 'bed',\n",
       " 'best',\n",
       " 'better',\n",
       " 'big',\n",
       " 'bit',\n",
       " 'body',\n",
       " 'bottle',\n",
       " 'bought',\n",
       " 'box',\n",
       " 'break',\n",
       " 'bring',\n",
       " 'business',\n",
       " 'buy',\n",
       " 'buying',\n",
       " 'called',\n",
       " 'came',\n",
       " 'car',\n",
       " 'card',\n",
       " 'cards',\n",
       " 'care',\n",
       " 'case',\n",
       " 'cash',\n",
       " 'caught',\n",
       " 'cause',\n",
       " 'chance',\n",
       " 'change',\n",
       " 'charge',\n",
       " 'cheap',\n",
       " 'check',\n",
       " 'christmas',\n",
       " 'clean',\n",
       " 'click',\n",
       " 'close',\n",
       " 'clothes',\n",
       " 'code',\n",
       " 'cold',\n",
       " 'college',\n",
       " 'com',\n",
       " 'come',\n",
       " 'comes',\n",
       " 'coming',\n",
       " 'company',\n",
       " 'completely',\n",
       " 'computer',\n",
       " 'contact',\n",
       " 'cost',\n",
       " 'country',\n",
       " 'couple',\n",
       " 'course',\n",
       " 'create',\n",
       " 'credit',\n",
       " 'cut',\n",
       " 'date',\n",
       " 'day',\n",
       " 'days',\n",
       " 'deal',\n",
       " 'did',\n",
       " 'didn',\n",
       " 'different',\n",
       " 'discord',\n",
       " 'dna',\n",
       " 'does',\n",
       " 'doesn',\n",
       " 'dog',\n",
       " 'doing',\n",
       " 'don',\n",
       " 'dont',\n",
       " 'door',\n",
       " 'drink',\n",
       " 'drive',\n",
       " 'driving',\n",
       " 'drugs',\n",
       " 'easier',\n",
       " 'easily',\n",
       " 'easy',\n",
       " 'eat',\n",
       " 'email',\n",
       " 'end',\n",
       " 'equest',\n",
       " 'especially',\n",
       " 'example',\n",
       " 'expensive',\n",
       " 'experience',\n",
       " 'extra',\n",
       " 'fake',\n",
       " 'family',\n",
       " 'far',\n",
       " 'fast',\n",
       " 'feel',\n",
       " 'feeling',\n",
       " 'food',\n",
       " 'free',\n",
       " 'friend',\n",
       " 'friends',\n",
       " 'fuck',\n",
       " 'game',\n",
       " 'gets',\n",
       " 'getting',\n",
       " 'gift',\n",
       " 'giving',\n",
       " 'goes',\n",
       " 'going',\n",
       " 'good',\n",
       " 'google',\n",
       " 'got',\n",
       " 'great',\n",
       " 'gt',\n",
       " 'guy',\n",
       " 'guys',\n",
       " 'half',\n",
       " 'hand',\n",
       " 'happy',\n",
       " 'hard',\n",
       " 'having',\n",
       " 'help',\n",
       " 'helps',\n",
       " 'high',\n",
       " 'hit',\n",
       " 'hold',\n",
       " 'home',\n",
       " 'hour',\n",
       " 'hours',\n",
       " 'house',\n",
       " 'https',\n",
       " 'id',\n",
       " 'idea',\n",
       " 'ideas',\n",
       " 'illegal',\n",
       " 'ilpt',\n",
       " 'im',\n",
       " 'important',\n",
       " 'info',\n",
       " 'information',\n",
       " 'inside',\n",
       " 'instead',\n",
       " 'insurance',\n",
       " 'internet',\n",
       " 'iphone',\n",
       " 'isn',\n",
       " 'item',\n",
       " 'items',\n",
       " 'job',\n",
       " 'just',\n",
       " 'kids',\n",
       " 'kind',\n",
       " 'know',\n",
       " 'later',\n",
       " 'learn',\n",
       " 'leave',\n",
       " 'left',\n",
       " 'let',\n",
       " 'life',\n",
       " 'like',\n",
       " 'likely',\n",
       " 'link',\n",
       " 'list',\n",
       " 'little',\n",
       " 'live',\n",
       " 'll',\n",
       " 'local',\n",
       " 'long',\n",
       " 'longer',\n",
       " 'look',\n",
       " 'looking',\n",
       " 'lost',\n",
       " 'lot',\n",
       " 'love',\n",
       " 'low',\n",
       " 'lpt',\n",
       " 'mail',\n",
       " 'make',\n",
       " 'makes',\n",
       " 'making',\n",
       " 'maybe',\n",
       " 'means',\n",
       " 'method',\n",
       " 'mind',\n",
       " 'minutes',\n",
       " 'money',\n",
       " 'month',\n",
       " 'months',\n",
       " 'morning',\n",
       " 'multiple',\n",
       " 'need',\n",
       " 'needed',\n",
       " 'new',\n",
       " 'nice',\n",
       " 'night',\n",
       " 'note',\n",
       " 'number',\n",
       " 'numbers',\n",
       " 'obviously',\n",
       " 'offer',\n",
       " 'old',\n",
       " 'ones',\n",
       " 'online',\n",
       " 'open',\n",
       " 'option',\n",
       " 'order',\n",
       " 'outside',\n",
       " 'package',\n",
       " 'paid',\n",
       " 'paper',\n",
       " 'parents',\n",
       " 'password',\n",
       " 'past',\n",
       " 'pay',\n",
       " 'paying',\n",
       " 'paypal',\n",
       " 'people',\n",
       " 'person',\n",
       " 'personal',\n",
       " 'phone',\n",
       " 'pick',\n",
       " 'place',\n",
       " 'places',\n",
       " 'plan',\n",
       " 'play',\n",
       " 'point',\n",
       " 'police',\n",
       " 'possible',\n",
       " 'post',\n",
       " 'pretty',\n",
       " 'price',\n",
       " 'probably',\n",
       " 'problem',\n",
       " 'process',\n",
       " 'product',\n",
       " 'purchase',\n",
       " 'question',\n",
       " 'questions',\n",
       " 'quick',\n",
       " 'read',\n",
       " 'real',\n",
       " 'really',\n",
       " 'reason',\n",
       " 'receipt',\n",
       " 'recently',\n",
       " 'reddit',\n",
       " 'refund',\n",
       " 'remember',\n",
       " 'remove',\n",
       " 'report',\n",
       " 'request',\n",
       " 'return',\n",
       " 'right',\n",
       " 'room',\n",
       " 'run',\n",
       " 'safe',\n",
       " 'said',\n",
       " 'save',\n",
       " 'say',\n",
       " 'saying',\n",
       " 'says',\n",
       " 'scam',\n",
       " 'school',\n",
       " 'screen',\n",
       " 'search',\n",
       " 'second',\n",
       " 'security',\n",
       " 'seen',\n",
       " 'self',\n",
       " 'sell',\n",
       " 'selling',\n",
       " 'send',\n",
       " 'sent',\n",
       " 'service',\n",
       " 'services',\n",
       " 'set',\n",
       " 'share',\n",
       " 'shit',\n",
       " 'short',\n",
       " 'sign',\n",
       " 'simple',\n",
       " 'simply',\n",
       " 'site',\n",
       " 'sites',\n",
       " 'situation',\n",
       " 'small',\n",
       " 'social',\n",
       " 'spend',\n",
       " 'start',\n",
       " 'started',\n",
       " 'state',\n",
       " 'stay',\n",
       " 'steal',\n",
       " 'step',\n",
       " 'stolen',\n",
       " 'stop',\n",
       " 'store',\n",
       " 'stores',\n",
       " 'story',\n",
       " 'stuff',\n",
       " 'sure',\n",
       " 'taking',\n",
       " 'talk',\n",
       " 'talking',\n",
       " 'tell',\n",
       " 'text',\n",
       " 'thank',\n",
       " 'thanks',\n",
       " 'thing',\n",
       " 'things',\n",
       " 'think',\n",
       " 'thinking',\n",
       " 'thought',\n",
       " 'time',\n",
       " 'times',\n",
       " 'tip',\n",
       " 'tips',\n",
       " 'today',\n",
       " 'told',\n",
       " 'took',\n",
       " 'tried',\n",
       " 'try',\n",
       " 'trying',\n",
       " 'turn',\n",
       " 'type',\n",
       " 'uk',\n",
       " 'use',\n",
       " 'used',\n",
       " 'using',\n",
       " 'usually',\n",
       " 've',\n",
       " 'video',\n",
       " 'wait',\n",
       " 'walk',\n",
       " 'walmart',\n",
       " 'wanna',\n",
       " 'want',\n",
       " 'wanted',\n",
       " 'watch',\n",
       " 'water',\n",
       " 'way',\n",
       " 'ways',\n",
       " 'website',\n",
       " 'weed',\n",
       " 'week',\n",
       " 'weeks',\n",
       " 'went',\n",
       " 'windows',\n",
       " 'won',\n",
       " 'wondering',\n",
       " 'work',\n",
       " 'worked',\n",
       " 'working',\n",
       " 'works',\n",
       " 'worth',\n",
       " 'write',\n",
       " 'wrong',\n",
       " 'www',\n",
       " 'x200b',\n",
       " 'year',\n",
       " 'years',\n",
       " 'youtube']"
      ]
     },
     "execution_count": 48,
     "metadata": {},
     "output_type": "execute_result"
    }
   ],
   "source": [
    "# taking any words with count of over 200 mentions and making my stopwords list\n",
    "my_stopwords= my_wordcount.loc[my_wordcount['count'] > 200]['word'].tolist()\n",
    "(my_stopwords)\n",
    "# although not shown, Ran cvec and tvec models with my cstomer stop words and did not get any appredciable drop in scores"
   ]
  },
  {
   "cell_type": "markdown",
   "metadata": {},
   "source": [
    "> ## Model 3\n",
    ">### GENERAL FINDINGS for all 3 datasets\n",
    ">- ALthough only shown in Model3/Data3, the following finding are for ALL 3 datasets.\n",
    ">- **DecisionTree accuracy is consistently lower accuracy than LogReg and had highest overift**  Although DT had at times up to 90 max depth, the model ran very quickly. \n",
    ">- **Stopwords appear not to be an issue** In addition to looking at models I also considered maybe a set of key words were influencing the accuracies of the models. Generating custom lits of stopwords did not have a significant effect on LogReg results. You had to get to the point of keeping words used 300 times in 14,000 posts (ie discarding words used over 300 times) to make any appeciable difference in the score.  This indicates individual and rarer words have more 'weight' which is probably why Tvec was consistently more accurate over Cvec overall.\n",
    "\n",
    ">### CONCLUSIONS for best fit models \n",
    "Results for best fit models:\n",
    "\n",
    "|Dataset|Reddit|Baseline|Best model|Results|\n",
    "|---|---|---|---|---|\n",
    "|Data1|Unethical vs Ethical|54%|Tvec and LogReg| Accuracy 78%|\n",
    "|Data2|Illegal vs Unethical| 52%| Tvec and LogReg|Accuracy 76%|\n",
    "|Data3|Illegal vs Ethical|52%|Tvec and LogReg|Accuracy 90%|\n",
    "\n"
   ]
  }
 ],
 "metadata": {
  "kernelspec": {
   "display_name": "Python 3",
   "language": "python",
   "name": "python3"
  },
  "language_info": {
   "codemirror_mode": {
    "name": "ipython",
    "version": 3
   },
   "file_extension": ".py",
   "mimetype": "text/x-python",
   "name": "python",
   "nbconvert_exporter": "python",
   "pygments_lexer": "ipython3",
   "version": "3.7.4"
  }
 },
 "nbformat": 4,
 "nbformat_minor": 2
}
